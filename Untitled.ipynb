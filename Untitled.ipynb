{
 "cells": [
  {
   "cell_type": "code",
   "execution_count": 2,
   "id": "db601c02-6227-446a-a079-b5800ca840d1",
   "metadata": {},
   "outputs": [],
   "source": [
    "import streamlit as st\n",
    "import pandas as pd\n",
    "import plotly.express as px\n",
    "from plotly.subplots import make_subplots\n",
    "import plotly.graph_objects as go\n",
    "\n",
    "import pydeck as pdk\n",
    "import numpy as np#Load and Cache the data\n",
    "from skimage.io import imread, imshow \n",
    "from PIL import Image\n",
    "from glob import glob\n"
   ]
  },
  {
   "cell_type": "code",
   "execution_count": null,
   "id": "657c103c-1192-4b0e-8c55-b18a0e470d4b",
   "metadata": {},
   "outputs": [],
   "source": [
    "def standardize_globalMedian(df_,collist, reference, index_columns):\n",
    "    df_selcols = df_.reset_index()[collist].set_index(\"Drug\")\n",
    "    if type(index_columns) == list: \n",
    "        drop_ = [\"Experiment ID\"] + index_columns\n",
    "        index_ = [\"Experiment ID\",\"Drug\"] + index_columns\n",
    "    else:\n",
    "        drop_ = [\"Experiment ID\"] + [index_columns]\n",
    "        index_ = [\"Experiment ID\",\"Drug\"] + [index_columns]\n",
    "        \n",
    "    global_control_medians = df_selcols.drop(drop_,axis=1).loc[\"Control\"].median()\n",
    "    norm_delta = df_selcols.loc[\"Control\"].groupby([\"Experiment ID\"]).median() - global_control_medians\n",
    "    \n",
    "    df_standardized = df_selcols.reset_index().set_index(index_) - norm_delta\n",
    "    df_standardized = df_standardized.drop(index_columns,axis=1).reset_index().set_index(\"Drug\") \n",
    "    df_standardized[df_standardized < 0] = 0 \n",
    "    return df_standardized"
   ]
  },
  {
   "cell_type": "code",
   "execution_count": 17,
   "id": "17dcd03b-acb1-4bbb-83de-228072be5a43",
   "metadata": {},
   "outputs": [
    {
     "data": {
      "text/html": [
       "<div>\n",
       "<style scoped>\n",
       "    .dataframe tbody tr th:only-of-type {\n",
       "        vertical-align: middle;\n",
       "    }\n",
       "\n",
       "    .dataframe tbody tr th {\n",
       "        vertical-align: top;\n",
       "    }\n",
       "\n",
       "    .dataframe thead th {\n",
       "        text-align: right;\n",
       "    }\n",
       "</style>\n",
       "<table border=\"1\" class=\"dataframe\">\n",
       "  <thead>\n",
       "    <tr style=\"text-align: right;\">\n",
       "      <th></th>\n",
       "      <th></th>\n",
       "      <th></th>\n",
       "      <th>Number ISV (Count)</th>\n",
       "      <th>Body length (µm)</th>\n",
       "      <th>Ejection fraction (%)</th>\n",
       "      <th>ISV width (µm)</th>\n",
       "      <th>ISV length (µm)</th>\n",
       "      <th>Heart Rate (BPM)</th>\n",
       "      <th>ISV area (µm^2)</th>\n",
       "    </tr>\n",
       "    <tr>\n",
       "      <th>Drug</th>\n",
       "      <th>Experiment ID</th>\n",
       "      <th>Concentration (µM)</th>\n",
       "      <th></th>\n",
       "      <th></th>\n",
       "      <th></th>\n",
       "      <th></th>\n",
       "      <th></th>\n",
       "      <th></th>\n",
       "      <th></th>\n",
       "    </tr>\n",
       "  </thead>\n",
       "  <tbody>\n",
       "    <tr>\n",
       "      <th rowspan=\"5\" valign=\"top\">Papaverine_1C02</th>\n",
       "      <th rowspan=\"5\" valign=\"top\">20</th>\n",
       "      <th>1.0</th>\n",
       "      <td>29.0</td>\n",
       "      <td>3969.975750</td>\n",
       "      <td>23.034782</td>\n",
       "      <td>41.568419</td>\n",
       "      <td>118.746229</td>\n",
       "      <td>128.017241</td>\n",
       "      <td>4936.092954</td>\n",
       "    </tr>\n",
       "    <tr>\n",
       "      <th>1.0</th>\n",
       "      <td>28.0</td>\n",
       "      <td>3773.302000</td>\n",
       "      <td>12.649212</td>\n",
       "      <td>32.771138</td>\n",
       "      <td>166.579482</td>\n",
       "      <td>128.415079</td>\n",
       "      <td>5458.999150</td>\n",
       "    </tr>\n",
       "    <tr>\n",
       "      <th>1.0</th>\n",
       "      <td>29.0</td>\n",
       "      <td>3772.054000</td>\n",
       "      <td>18.511263</td>\n",
       "      <td>30.399782</td>\n",
       "      <td>163.101508</td>\n",
       "      <td>126.703106</td>\n",
       "      <td>4958.250297</td>\n",
       "    </tr>\n",
       "    <tr>\n",
       "      <th>1.0</th>\n",
       "      <td>29.0</td>\n",
       "      <td>3812.562000</td>\n",
       "      <td>26.993482</td>\n",
       "      <td>33.975478</td>\n",
       "      <td>173.823427</td>\n",
       "      <td>129.499932</td>\n",
       "      <td>5905.733928</td>\n",
       "    </tr>\n",
       "    <tr>\n",
       "      <th>1.0</th>\n",
       "      <td>28.0</td>\n",
       "      <td>3764.117500</td>\n",
       "      <td>18.183076</td>\n",
       "      <td>34.532891</td>\n",
       "      <td>178.950887</td>\n",
       "      <td>NaN</td>\n",
       "      <td>6179.691467</td>\n",
       "    </tr>\n",
       "    <tr>\n",
       "      <th>...</th>\n",
       "      <th>...</th>\n",
       "      <th>...</th>\n",
       "      <td>...</td>\n",
       "      <td>...</td>\n",
       "      <td>...</td>\n",
       "      <td>...</td>\n",
       "      <td>...</td>\n",
       "      <td>...</td>\n",
       "      <td>...</td>\n",
       "    </tr>\n",
       "    <tr>\n",
       "      <th rowspan=\"5\" valign=\"top\">Control</th>\n",
       "      <th rowspan=\"5\" valign=\"top\">25</th>\n",
       "      <th>1.0</th>\n",
       "      <td>29.0</td>\n",
       "      <td>3624.194600</td>\n",
       "      <td>12.917223</td>\n",
       "      <td>29.033603</td>\n",
       "      <td>100.793250</td>\n",
       "      <td>118.939227</td>\n",
       "      <td>2926.391160</td>\n",
       "    </tr>\n",
       "    <tr>\n",
       "      <th>1.0</th>\n",
       "      <td>29.0</td>\n",
       "      <td>3616.828150</td>\n",
       "      <td>20.550301</td>\n",
       "      <td>34.190222</td>\n",
       "      <td>129.441127</td>\n",
       "      <td>163.351985</td>\n",
       "      <td>4425.620921</td>\n",
       "    </tr>\n",
       "    <tr>\n",
       "      <th>1.0</th>\n",
       "      <td>29.0</td>\n",
       "      <td>3539.585725</td>\n",
       "      <td>NaN</td>\n",
       "      <td>32.022479</td>\n",
       "      <td>143.883655</td>\n",
       "      <td>142.081696</td>\n",
       "      <td>4607.511324</td>\n",
       "    </tr>\n",
       "    <tr>\n",
       "      <th>1.0</th>\n",
       "      <td>29.0</td>\n",
       "      <td>3644.480450</td>\n",
       "      <td>23.215638</td>\n",
       "      <td>28.229299</td>\n",
       "      <td>86.512676</td>\n",
       "      <td>151.098678</td>\n",
       "      <td>2442.192172</td>\n",
       "    </tr>\n",
       "    <tr>\n",
       "      <th>1.0</th>\n",
       "      <td>29.0</td>\n",
       "      <td>3503.361225</td>\n",
       "      <td>21.592068</td>\n",
       "      <td>32.627780</td>\n",
       "      <td>130.235696</td>\n",
       "      <td>154.336315</td>\n",
       "      <td>4249.301592</td>\n",
       "    </tr>\n",
       "  </tbody>\n",
       "</table>\n",
       "<p>2428 rows × 7 columns</p>\n",
       "</div>"
      ],
      "text/plain": [
       "                                                  Number ISV (Count)  \\\n",
       "Drug            Experiment ID Concentration (µM)                       \n",
       "Papaverine_1C02 20            1.0                               29.0   \n",
       "                              1.0                               28.0   \n",
       "                              1.0                               29.0   \n",
       "                              1.0                               29.0   \n",
       "                              1.0                               28.0   \n",
       "...                                                              ...   \n",
       "Control         25            1.0                               29.0   \n",
       "                              1.0                               29.0   \n",
       "                              1.0                               29.0   \n",
       "                              1.0                               29.0   \n",
       "                              1.0                               29.0   \n",
       "\n",
       "                                                  Body length (µm)  \\\n",
       "Drug            Experiment ID Concentration (µM)                     \n",
       "Papaverine_1C02 20            1.0                      3969.975750   \n",
       "                              1.0                      3773.302000   \n",
       "                              1.0                      3772.054000   \n",
       "                              1.0                      3812.562000   \n",
       "                              1.0                      3764.117500   \n",
       "...                                                            ...   \n",
       "Control         25            1.0                      3624.194600   \n",
       "                              1.0                      3616.828150   \n",
       "                              1.0                      3539.585725   \n",
       "                              1.0                      3644.480450   \n",
       "                              1.0                      3503.361225   \n",
       "\n",
       "                                                  Ejection fraction (%)  \\\n",
       "Drug            Experiment ID Concentration (µM)                          \n",
       "Papaverine_1C02 20            1.0                             23.034782   \n",
       "                              1.0                             12.649212   \n",
       "                              1.0                             18.511263   \n",
       "                              1.0                             26.993482   \n",
       "                              1.0                             18.183076   \n",
       "...                                                                 ...   \n",
       "Control         25            1.0                             12.917223   \n",
       "                              1.0                             20.550301   \n",
       "                              1.0                                   NaN   \n",
       "                              1.0                             23.215638   \n",
       "                              1.0                             21.592068   \n",
       "\n",
       "                                                  ISV width (µm)  \\\n",
       "Drug            Experiment ID Concentration (µM)                   \n",
       "Papaverine_1C02 20            1.0                      41.568419   \n",
       "                              1.0                      32.771138   \n",
       "                              1.0                      30.399782   \n",
       "                              1.0                      33.975478   \n",
       "                              1.0                      34.532891   \n",
       "...                                                          ...   \n",
       "Control         25            1.0                      29.033603   \n",
       "                              1.0                      34.190222   \n",
       "                              1.0                      32.022479   \n",
       "                              1.0                      28.229299   \n",
       "                              1.0                      32.627780   \n",
       "\n",
       "                                                  ISV length (µm)  \\\n",
       "Drug            Experiment ID Concentration (µM)                    \n",
       "Papaverine_1C02 20            1.0                      118.746229   \n",
       "                              1.0                      166.579482   \n",
       "                              1.0                      163.101508   \n",
       "                              1.0                      173.823427   \n",
       "                              1.0                      178.950887   \n",
       "...                                                           ...   \n",
       "Control         25            1.0                      100.793250   \n",
       "                              1.0                      129.441127   \n",
       "                              1.0                      143.883655   \n",
       "                              1.0                       86.512676   \n",
       "                              1.0                      130.235696   \n",
       "\n",
       "                                                  Heart Rate (BPM)  \\\n",
       "Drug            Experiment ID Concentration (µM)                     \n",
       "Papaverine_1C02 20            1.0                       128.017241   \n",
       "                              1.0                       128.415079   \n",
       "                              1.0                       126.703106   \n",
       "                              1.0                       129.499932   \n",
       "                              1.0                              NaN   \n",
       "...                                                            ...   \n",
       "Control         25            1.0                       118.939227   \n",
       "                              1.0                       163.351985   \n",
       "                              1.0                       142.081696   \n",
       "                              1.0                       151.098678   \n",
       "                              1.0                       154.336315   \n",
       "\n",
       "                                                  ISV area (µm^2)  \n",
       "Drug            Experiment ID Concentration (µM)                   \n",
       "Papaverine_1C02 20            1.0                     4936.092954  \n",
       "                              1.0                     5458.999150  \n",
       "                              1.0                     4958.250297  \n",
       "                              1.0                     5905.733928  \n",
       "                              1.0                     6179.691467  \n",
       "...                                                           ...  \n",
       "Control         25            1.0                     2926.391160  \n",
       "                              1.0                     4425.620921  \n",
       "                              1.0                     4607.511324  \n",
       "                              1.0                     2442.192172  \n",
       "                              1.0                     4249.301592  \n",
       "\n",
       "[2428 rows x 7 columns]"
      ]
     },
     "execution_count": 17,
     "metadata": {},
     "output_type": "execute_result"
    }
   ],
   "source": [
    "source = \"Data/2022-07-28_Morphology_Assay_Collected_Measurements.xlsx\"\n",
    "\n",
    "df = pd.read_excel(source)\n",
    "df = df.drop([\"Label\",\"image_name\", \"Well\",\"Heart Beats (Count)\",\"Frames (Count)\",\"Avg_Frametime (ms)\", \"Sum_Frametime (ms)\",\"Repeat\",\"TRIVIAL_NAME\",\"Count_ISV\",\"Edema\"],axis=1)\n",
    "df = df.set_index([\"Drug\",\"Experiment ID\",\"Concentration (µM)\"])\n",
    "list_measurements = list(df.columns)\n",
    "df"
   ]
  },
  {
   "cell_type": "code",
   "execution_count": 18,
   "id": "19acb352-8290-4406-98b3-e8e87bed628d",
   "metadata": {},
   "outputs": [
    {
     "data": {
      "text/html": [
       "<div>\n",
       "<style scoped>\n",
       "    .dataframe tbody tr th:only-of-type {\n",
       "        vertical-align: middle;\n",
       "    }\n",
       "\n",
       "    .dataframe tbody tr th {\n",
       "        vertical-align: top;\n",
       "    }\n",
       "\n",
       "    .dataframe thead th {\n",
       "        text-align: right;\n",
       "    }\n",
       "</style>\n",
       "<table border=\"1\" class=\"dataframe\">\n",
       "  <thead>\n",
       "    <tr style=\"text-align: right;\">\n",
       "      <th></th>\n",
       "      <th></th>\n",
       "      <th>Number ISV (Count)</th>\n",
       "      <th>Body length (µm)</th>\n",
       "      <th>Ejection fraction (%)</th>\n",
       "      <th>ISV width (µm)</th>\n",
       "      <th>ISV length (µm)</th>\n",
       "      <th>Heart Rate (BPM)</th>\n",
       "      <th>ISV area (µm^2)</th>\n",
       "    </tr>\n",
       "    <tr>\n",
       "      <th>Experiment ID</th>\n",
       "      <th>Concentration (µM)</th>\n",
       "      <th></th>\n",
       "      <th></th>\n",
       "      <th></th>\n",
       "      <th></th>\n",
       "      <th></th>\n",
       "      <th></th>\n",
       "      <th></th>\n",
       "    </tr>\n",
       "  </thead>\n",
       "  <tbody>\n",
       "    <tr>\n",
       "      <th rowspan=\"5\" valign=\"top\">21</th>\n",
       "      <th>0.5</th>\n",
       "      <td>27.0</td>\n",
       "      <td>3712.449325</td>\n",
       "      <td>21.536980</td>\n",
       "      <td>30.055705</td>\n",
       "      <td>125.780832</td>\n",
       "      <td>134.865767</td>\n",
       "      <td>3780.431635</td>\n",
       "    </tr>\n",
       "    <tr>\n",
       "      <th>0.5</th>\n",
       "      <td>28.0</td>\n",
       "      <td>3543.358650</td>\n",
       "      <td>0.264678</td>\n",
       "      <td>30.945328</td>\n",
       "      <td>132.566896</td>\n",
       "      <td>127.020090</td>\n",
       "      <td>4102.326025</td>\n",
       "    </tr>\n",
       "    <tr>\n",
       "      <th>0.5</th>\n",
       "      <td>28.0</td>\n",
       "      <td>3568.501625</td>\n",
       "      <td>17.244680</td>\n",
       "      <td>35.788671</td>\n",
       "      <td>154.466893</td>\n",
       "      <td>117.828047</td>\n",
       "      <td>5528.164789</td>\n",
       "    </tr>\n",
       "    <tr>\n",
       "      <th>0.5</th>\n",
       "      <td>28.0</td>\n",
       "      <td>3465.306325</td>\n",
       "      <td>19.352222</td>\n",
       "      <td>32.427281</td>\n",
       "      <td>142.515150</td>\n",
       "      <td>136.247416</td>\n",
       "      <td>4621.378815</td>\n",
       "    </tr>\n",
       "    <tr>\n",
       "      <th>0.5</th>\n",
       "      <td>28.0</td>\n",
       "      <td>3588.633100</td>\n",
       "      <td>17.945474</td>\n",
       "      <td>34.648916</td>\n",
       "      <td>164.794045</td>\n",
       "      <td>95.015716</td>\n",
       "      <td>5709.934947</td>\n",
       "    </tr>\n",
       "    <tr>\n",
       "      <th>...</th>\n",
       "      <th>...</th>\n",
       "      <td>...</td>\n",
       "      <td>...</td>\n",
       "      <td>...</td>\n",
       "      <td>...</td>\n",
       "      <td>...</td>\n",
       "      <td>...</td>\n",
       "      <td>...</td>\n",
       "    </tr>\n",
       "    <tr>\n",
       "      <th rowspan=\"5\" valign=\"top\">25</th>\n",
       "      <th>25.0</th>\n",
       "      <td>28.0</td>\n",
       "      <td>3555.513325</td>\n",
       "      <td>20.702579</td>\n",
       "      <td>23.443382</td>\n",
       "      <td>86.150638</td>\n",
       "      <td>135.713350</td>\n",
       "      <td>2019.662278</td>\n",
       "    </tr>\n",
       "    <tr>\n",
       "      <th>25.0</th>\n",
       "      <td>29.0</td>\n",
       "      <td>3701.648600</td>\n",
       "      <td>NaN</td>\n",
       "      <td>26.826459</td>\n",
       "      <td>71.436777</td>\n",
       "      <td>129.949150</td>\n",
       "      <td>1916.395723</td>\n",
       "    </tr>\n",
       "    <tr>\n",
       "      <th>25.0</th>\n",
       "      <td>29.0</td>\n",
       "      <td>3641.220050</td>\n",
       "      <td>26.993526</td>\n",
       "      <td>32.857148</td>\n",
       "      <td>88.727117</td>\n",
       "      <td>157.783641</td>\n",
       "      <td>2915.319990</td>\n",
       "    </tr>\n",
       "    <tr>\n",
       "      <th>25.0</th>\n",
       "      <td>29.0</td>\n",
       "      <td>3614.064675</td>\n",
       "      <td>25.224522</td>\n",
       "      <td>30.640752</td>\n",
       "      <td>101.655746</td>\n",
       "      <td>129.071891</td>\n",
       "      <td>3114.808506</td>\n",
       "    </tr>\n",
       "    <tr>\n",
       "      <th>25.0</th>\n",
       "      <td>29.0</td>\n",
       "      <td>3602.976325</td>\n",
       "      <td>NaN</td>\n",
       "      <td>29.026166</td>\n",
       "      <td>115.280870</td>\n",
       "      <td>99.298893</td>\n",
       "      <td>3346.161682</td>\n",
       "    </tr>\n",
       "  </tbody>\n",
       "</table>\n",
       "<p>120 rows × 7 columns</p>\n",
       "</div>"
      ],
      "text/plain": [
       "                                  Number ISV (Count)  Body length (µm)  \\\n",
       "Experiment ID Concentration (µM)                                         \n",
       "21            0.5                               27.0       3712.449325   \n",
       "              0.5                               28.0       3543.358650   \n",
       "              0.5                               28.0       3568.501625   \n",
       "              0.5                               28.0       3465.306325   \n",
       "              0.5                               28.0       3588.633100   \n",
       "...                                              ...               ...   \n",
       "25            25.0                              28.0       3555.513325   \n",
       "              25.0                              29.0       3701.648600   \n",
       "              25.0                              29.0       3641.220050   \n",
       "              25.0                              29.0       3614.064675   \n",
       "              25.0                              29.0       3602.976325   \n",
       "\n",
       "                                  Ejection fraction (%)  ISV width (µm)  \\\n",
       "Experiment ID Concentration (µM)                                          \n",
       "21            0.5                             21.536980       30.055705   \n",
       "              0.5                              0.264678       30.945328   \n",
       "              0.5                             17.244680       35.788671   \n",
       "              0.5                             19.352222       32.427281   \n",
       "              0.5                             17.945474       34.648916   \n",
       "...                                                 ...             ...   \n",
       "25            25.0                            20.702579       23.443382   \n",
       "              25.0                                  NaN       26.826459   \n",
       "              25.0                            26.993526       32.857148   \n",
       "              25.0                            25.224522       30.640752   \n",
       "              25.0                                  NaN       29.026166   \n",
       "\n",
       "                                  ISV length (µm)  Heart Rate (BPM)  \\\n",
       "Experiment ID Concentration (µM)                                      \n",
       "21            0.5                      125.780832        134.865767   \n",
       "              0.5                      132.566896        127.020090   \n",
       "              0.5                      154.466893        117.828047   \n",
       "              0.5                      142.515150        136.247416   \n",
       "              0.5                      164.794045         95.015716   \n",
       "...                                           ...               ...   \n",
       "25            25.0                      86.150638        135.713350   \n",
       "              25.0                      71.436777        129.949150   \n",
       "              25.0                      88.727117        157.783641   \n",
       "              25.0                     101.655746        129.071891   \n",
       "              25.0                     115.280870         99.298893   \n",
       "\n",
       "                                  ISV area (µm^2)  \n",
       "Experiment ID Concentration (µM)                   \n",
       "21            0.5                     3780.431635  \n",
       "              0.5                     4102.326025  \n",
       "              0.5                     5528.164789  \n",
       "              0.5                     4621.378815  \n",
       "              0.5                     5709.934947  \n",
       "...                                           ...  \n",
       "25            25.0                    2019.662278  \n",
       "              25.0                    1916.395723  \n",
       "              25.0                    2915.319990  \n",
       "              25.0                    3114.808506  \n",
       "              25.0                    3346.161682  \n",
       "\n",
       "[120 rows x 7 columns]"
      ]
     },
     "execution_count": 18,
     "metadata": {},
     "output_type": "execute_result"
    }
   ],
   "source": [
    "df.loc[\"Molnupiravir\"]"
   ]
  },
  {
   "cell_type": "code",
   "execution_count": 16,
   "id": "2b51b211-96db-40af-bbb6-7cffe1c99c58",
   "metadata": {},
   "outputs": [
    {
     "data": {
      "text/html": [
       "<div>\n",
       "<style scoped>\n",
       "    .dataframe tbody tr th:only-of-type {\n",
       "        vertical-align: middle;\n",
       "    }\n",
       "\n",
       "    .dataframe tbody tr th {\n",
       "        vertical-align: top;\n",
       "    }\n",
       "\n",
       "    .dataframe thead th {\n",
       "        text-align: right;\n",
       "    }\n",
       "</style>\n",
       "<table border=\"1\" class=\"dataframe\">\n",
       "  <thead>\n",
       "    <tr style=\"text-align: right;\">\n",
       "      <th></th>\n",
       "      <th></th>\n",
       "      <th></th>\n",
       "      <th>Distance_moved [mm]|Accomodation</th>\n",
       "      <th>Distance_moved [mm]|Bright</th>\n",
       "      <th>Distance_moved [mm]|Dark</th>\n",
       "      <th>Velocity [mm/s]|Accomodation</th>\n",
       "      <th>Velocity [mm/s]|Light</th>\n",
       "      <th>Velocity [mm/s]|Dark</th>\n",
       "      <th>Moving [s]|Accomodation</th>\n",
       "      <th>Moving [s]|Bright</th>\n",
       "      <th>Moving [s]|Dark</th>\n",
       "      <th>Not_Moving [s]|Accomodation</th>\n",
       "      <th>Not_Moving [s]|Bright</th>\n",
       "      <th>Not_Moving [s]|Dark</th>\n",
       "      <th>Velocity|Ratio Light/Dark</th>\n",
       "    </tr>\n",
       "    <tr>\n",
       "      <th>Drug</th>\n",
       "      <th>Experiment ID</th>\n",
       "      <th>Concentration (µM)</th>\n",
       "      <th></th>\n",
       "      <th></th>\n",
       "      <th></th>\n",
       "      <th></th>\n",
       "      <th></th>\n",
       "      <th></th>\n",
       "      <th></th>\n",
       "      <th></th>\n",
       "      <th></th>\n",
       "      <th></th>\n",
       "      <th></th>\n",
       "      <th></th>\n",
       "      <th></th>\n",
       "    </tr>\n",
       "  </thead>\n",
       "  <tbody>\n",
       "    <tr>\n",
       "      <th rowspan=\"5\" valign=\"top\">(+)-Mefloquine_2C11</th>\n",
       "      <th rowspan=\"5\" valign=\"top\">11</th>\n",
       "      <th>1.0</th>\n",
       "      <td>116.709500</td>\n",
       "      <td>0.889740</td>\n",
       "      <td>111.03750</td>\n",
       "      <td>1.946485</td>\n",
       "      <td>0.014829</td>\n",
       "      <td>1.850625</td>\n",
       "      <td>27.54</td>\n",
       "      <td>0.00</td>\n",
       "      <td>26.36</td>\n",
       "      <td>32.46</td>\n",
       "      <td>60.00</td>\n",
       "      <td>33.64</td>\n",
       "      <td>4.761975</td>\n",
       "    </tr>\n",
       "    <tr>\n",
       "      <th>1.0</th>\n",
       "      <td>7.249865</td>\n",
       "      <td>5.740010</td>\n",
       "      <td>103.82550</td>\n",
       "      <td>0.120831</td>\n",
       "      <td>0.095667</td>\n",
       "      <td>1.730430</td>\n",
       "      <td>0.80</td>\n",
       "      <td>0.00</td>\n",
       "      <td>23.48</td>\n",
       "      <td>59.20</td>\n",
       "      <td>60.00</td>\n",
       "      <td>36.52</td>\n",
       "      <td>2.885430</td>\n",
       "    </tr>\n",
       "    <tr>\n",
       "      <th>1.0</th>\n",
       "      <td>9.524730</td>\n",
       "      <td>6.392530</td>\n",
       "      <td>58.59845</td>\n",
       "      <td>0.158746</td>\n",
       "      <td>0.106542</td>\n",
       "      <td>0.977294</td>\n",
       "      <td>1.46</td>\n",
       "      <td>0.00</td>\n",
       "      <td>12.86</td>\n",
       "      <td>58.54</td>\n",
       "      <td>60.00</td>\n",
       "      <td>47.14</td>\n",
       "      <td>2.207929</td>\n",
       "    </tr>\n",
       "    <tr>\n",
       "      <th>1.0</th>\n",
       "      <td>156.411500</td>\n",
       "      <td>38.608200</td>\n",
       "      <td>166.86500</td>\n",
       "      <td>2.610340</td>\n",
       "      <td>0.643470</td>\n",
       "      <td>2.782940</td>\n",
       "      <td>42.10</td>\n",
       "      <td>5.92</td>\n",
       "      <td>42.78</td>\n",
       "      <td>17.90</td>\n",
       "      <td>54.08</td>\n",
       "      <td>17.22</td>\n",
       "      <td>1.463194</td>\n",
       "    </tr>\n",
       "    <tr>\n",
       "      <th>1.0</th>\n",
       "      <td>138.505500</td>\n",
       "      <td>6.696210</td>\n",
       "      <td>133.82900</td>\n",
       "      <td>2.311510</td>\n",
       "      <td>0.111680</td>\n",
       "      <td>2.232355</td>\n",
       "      <td>35.18</td>\n",
       "      <td>0.00</td>\n",
       "      <td>35.80</td>\n",
       "      <td>24.82</td>\n",
       "      <td>60.00</td>\n",
       "      <td>24.20</td>\n",
       "      <td>2.986708</td>\n",
       "    </tr>\n",
       "    <tr>\n",
       "      <th>...</th>\n",
       "      <th>...</th>\n",
       "      <th>...</th>\n",
       "      <td>...</td>\n",
       "      <td>...</td>\n",
       "      <td>...</td>\n",
       "      <td>...</td>\n",
       "      <td>...</td>\n",
       "      <td>...</td>\n",
       "      <td>...</td>\n",
       "      <td>...</td>\n",
       "      <td>...</td>\n",
       "      <td>...</td>\n",
       "      <td>...</td>\n",
       "      <td>...</td>\n",
       "      <td>...</td>\n",
       "    </tr>\n",
       "    <tr>\n",
       "      <th rowspan=\"5\" valign=\"top\">ZINC4326719_2E07</th>\n",
       "      <th rowspan=\"5\" valign=\"top\">13</th>\n",
       "      <th>1.0</th>\n",
       "      <td>83.091350</td>\n",
       "      <td>14.702800</td>\n",
       "      <td>89.85690</td>\n",
       "      <td>1.385905</td>\n",
       "      <td>0.245209</td>\n",
       "      <td>1.498600</td>\n",
       "      <td>20.52</td>\n",
       "      <td>1.68</td>\n",
       "      <td>23.00</td>\n",
       "      <td>39.48</td>\n",
       "      <td>58.32</td>\n",
       "      <td>37.00</td>\n",
       "      <td>1.806771</td>\n",
       "    </tr>\n",
       "    <tr>\n",
       "      <th>1.0</th>\n",
       "      <td>106.517500</td>\n",
       "      <td>3.544320</td>\n",
       "      <td>82.14210</td>\n",
       "      <td>1.775290</td>\n",
       "      <td>0.059072</td>\n",
       "      <td>1.369035</td>\n",
       "      <td>25.58</td>\n",
       "      <td>0.00</td>\n",
       "      <td>18.40</td>\n",
       "      <td>34.42</td>\n",
       "      <td>60.00</td>\n",
       "      <td>41.60</td>\n",
       "      <td>3.127048</td>\n",
       "    </tr>\n",
       "    <tr>\n",
       "      <th>1.0</th>\n",
       "      <td>103.880000</td>\n",
       "      <td>9.697715</td>\n",
       "      <td>118.20650</td>\n",
       "      <td>1.731340</td>\n",
       "      <td>0.161737</td>\n",
       "      <td>1.970365</td>\n",
       "      <td>24.72</td>\n",
       "      <td>0.24</td>\n",
       "      <td>28.72</td>\n",
       "      <td>35.28</td>\n",
       "      <td>59.76</td>\n",
       "      <td>31.28</td>\n",
       "      <td>2.494349</td>\n",
       "    </tr>\n",
       "    <tr>\n",
       "      <th>1.0</th>\n",
       "      <td>19.133500</td>\n",
       "      <td>7.391230</td>\n",
       "      <td>67.10335</td>\n",
       "      <td>0.319105</td>\n",
       "      <td>0.123269</td>\n",
       "      <td>1.118390</td>\n",
       "      <td>2.90</td>\n",
       "      <td>0.52</td>\n",
       "      <td>14.70</td>\n",
       "      <td>57.10</td>\n",
       "      <td>59.48</td>\n",
       "      <td>45.30</td>\n",
       "      <td>2.198091</td>\n",
       "    </tr>\n",
       "    <tr>\n",
       "      <th>1.0</th>\n",
       "      <td>118.958500</td>\n",
       "      <td>8.627845</td>\n",
       "      <td>152.94150</td>\n",
       "      <td>1.983970</td>\n",
       "      <td>0.143797</td>\n",
       "      <td>2.550725</td>\n",
       "      <td>28.66</td>\n",
       "      <td>0.30</td>\n",
       "      <td>34.96</td>\n",
       "      <td>31.34</td>\n",
       "      <td>59.70</td>\n",
       "      <td>25.04</td>\n",
       "      <td>2.869192</td>\n",
       "    </tr>\n",
       "  </tbody>\n",
       "</table>\n",
       "<p>2219 rows × 13 columns</p>\n",
       "</div>"
      ],
      "text/plain": [
       "                                                      Distance_moved [mm]|Accomodation  \\\n",
       "Drug                Experiment ID Concentration (µM)                                     \n",
       "(+)-Mefloquine_2C11 11            1.0                                       116.709500   \n",
       "                                  1.0                                         7.249865   \n",
       "                                  1.0                                         9.524730   \n",
       "                                  1.0                                       156.411500   \n",
       "                                  1.0                                       138.505500   \n",
       "...                                                                                ...   \n",
       "ZINC4326719_2E07    13            1.0                                        83.091350   \n",
       "                                  1.0                                       106.517500   \n",
       "                                  1.0                                       103.880000   \n",
       "                                  1.0                                        19.133500   \n",
       "                                  1.0                                       118.958500   \n",
       "\n",
       "                                                      Distance_moved [mm]|Bright  \\\n",
       "Drug                Experiment ID Concentration (µM)                               \n",
       "(+)-Mefloquine_2C11 11            1.0                                   0.889740   \n",
       "                                  1.0                                   5.740010   \n",
       "                                  1.0                                   6.392530   \n",
       "                                  1.0                                  38.608200   \n",
       "                                  1.0                                   6.696210   \n",
       "...                                                                          ...   \n",
       "ZINC4326719_2E07    13            1.0                                  14.702800   \n",
       "                                  1.0                                   3.544320   \n",
       "                                  1.0                                   9.697715   \n",
       "                                  1.0                                   7.391230   \n",
       "                                  1.0                                   8.627845   \n",
       "\n",
       "                                                      Distance_moved [mm]|Dark  \\\n",
       "Drug                Experiment ID Concentration (µM)                             \n",
       "(+)-Mefloquine_2C11 11            1.0                                111.03750   \n",
       "                                  1.0                                103.82550   \n",
       "                                  1.0                                 58.59845   \n",
       "                                  1.0                                166.86500   \n",
       "                                  1.0                                133.82900   \n",
       "...                                                                        ...   \n",
       "ZINC4326719_2E07    13            1.0                                 89.85690   \n",
       "                                  1.0                                 82.14210   \n",
       "                                  1.0                                118.20650   \n",
       "                                  1.0                                 67.10335   \n",
       "                                  1.0                                152.94150   \n",
       "\n",
       "                                                      Velocity [mm/s]|Accomodation  \\\n",
       "Drug                Experiment ID Concentration (µM)                                 \n",
       "(+)-Mefloquine_2C11 11            1.0                                     1.946485   \n",
       "                                  1.0                                     0.120831   \n",
       "                                  1.0                                     0.158746   \n",
       "                                  1.0                                     2.610340   \n",
       "                                  1.0                                     2.311510   \n",
       "...                                                                            ...   \n",
       "ZINC4326719_2E07    13            1.0                                     1.385905   \n",
       "                                  1.0                                     1.775290   \n",
       "                                  1.0                                     1.731340   \n",
       "                                  1.0                                     0.319105   \n",
       "                                  1.0                                     1.983970   \n",
       "\n",
       "                                                      Velocity [mm/s]|Light  \\\n",
       "Drug                Experiment ID Concentration (µM)                          \n",
       "(+)-Mefloquine_2C11 11            1.0                              0.014829   \n",
       "                                  1.0                              0.095667   \n",
       "                                  1.0                              0.106542   \n",
       "                                  1.0                              0.643470   \n",
       "                                  1.0                              0.111680   \n",
       "...                                                                     ...   \n",
       "ZINC4326719_2E07    13            1.0                              0.245209   \n",
       "                                  1.0                              0.059072   \n",
       "                                  1.0                              0.161737   \n",
       "                                  1.0                              0.123269   \n",
       "                                  1.0                              0.143797   \n",
       "\n",
       "                                                      Velocity [mm/s]|Dark  \\\n",
       "Drug                Experiment ID Concentration (µM)                         \n",
       "(+)-Mefloquine_2C11 11            1.0                             1.850625   \n",
       "                                  1.0                             1.730430   \n",
       "                                  1.0                             0.977294   \n",
       "                                  1.0                             2.782940   \n",
       "                                  1.0                             2.232355   \n",
       "...                                                                    ...   \n",
       "ZINC4326719_2E07    13            1.0                             1.498600   \n",
       "                                  1.0                             1.369035   \n",
       "                                  1.0                             1.970365   \n",
       "                                  1.0                             1.118390   \n",
       "                                  1.0                             2.550725   \n",
       "\n",
       "                                                      Moving [s]|Accomodation  \\\n",
       "Drug                Experiment ID Concentration (µM)                            \n",
       "(+)-Mefloquine_2C11 11            1.0                                   27.54   \n",
       "                                  1.0                                    0.80   \n",
       "                                  1.0                                    1.46   \n",
       "                                  1.0                                   42.10   \n",
       "                                  1.0                                   35.18   \n",
       "...                                                                       ...   \n",
       "ZINC4326719_2E07    13            1.0                                   20.52   \n",
       "                                  1.0                                   25.58   \n",
       "                                  1.0                                   24.72   \n",
       "                                  1.0                                    2.90   \n",
       "                                  1.0                                   28.66   \n",
       "\n",
       "                                                      Moving [s]|Bright  \\\n",
       "Drug                Experiment ID Concentration (µM)                      \n",
       "(+)-Mefloquine_2C11 11            1.0                              0.00   \n",
       "                                  1.0                              0.00   \n",
       "                                  1.0                              0.00   \n",
       "                                  1.0                              5.92   \n",
       "                                  1.0                              0.00   \n",
       "...                                                                 ...   \n",
       "ZINC4326719_2E07    13            1.0                              1.68   \n",
       "                                  1.0                              0.00   \n",
       "                                  1.0                              0.24   \n",
       "                                  1.0                              0.52   \n",
       "                                  1.0                              0.30   \n",
       "\n",
       "                                                      Moving [s]|Dark  \\\n",
       "Drug                Experiment ID Concentration (µM)                    \n",
       "(+)-Mefloquine_2C11 11            1.0                           26.36   \n",
       "                                  1.0                           23.48   \n",
       "                                  1.0                           12.86   \n",
       "                                  1.0                           42.78   \n",
       "                                  1.0                           35.80   \n",
       "...                                                               ...   \n",
       "ZINC4326719_2E07    13            1.0                           23.00   \n",
       "                                  1.0                           18.40   \n",
       "                                  1.0                           28.72   \n",
       "                                  1.0                           14.70   \n",
       "                                  1.0                           34.96   \n",
       "\n",
       "                                                      Not_Moving [s]|Accomodation  \\\n",
       "Drug                Experiment ID Concentration (µM)                                \n",
       "(+)-Mefloquine_2C11 11            1.0                                       32.46   \n",
       "                                  1.0                                       59.20   \n",
       "                                  1.0                                       58.54   \n",
       "                                  1.0                                       17.90   \n",
       "                                  1.0                                       24.82   \n",
       "...                                                                           ...   \n",
       "ZINC4326719_2E07    13            1.0                                       39.48   \n",
       "                                  1.0                                       34.42   \n",
       "                                  1.0                                       35.28   \n",
       "                                  1.0                                       57.10   \n",
       "                                  1.0                                       31.34   \n",
       "\n",
       "                                                      Not_Moving [s]|Bright  \\\n",
       "Drug                Experiment ID Concentration (µM)                          \n",
       "(+)-Mefloquine_2C11 11            1.0                                 60.00   \n",
       "                                  1.0                                 60.00   \n",
       "                                  1.0                                 60.00   \n",
       "                                  1.0                                 54.08   \n",
       "                                  1.0                                 60.00   \n",
       "...                                                                     ...   \n",
       "ZINC4326719_2E07    13            1.0                                 58.32   \n",
       "                                  1.0                                 60.00   \n",
       "                                  1.0                                 59.76   \n",
       "                                  1.0                                 59.48   \n",
       "                                  1.0                                 59.70   \n",
       "\n",
       "                                                      Not_Moving [s]|Dark  \\\n",
       "Drug                Experiment ID Concentration (µM)                        \n",
       "(+)-Mefloquine_2C11 11            1.0                               33.64   \n",
       "                                  1.0                               36.52   \n",
       "                                  1.0                               47.14   \n",
       "                                  1.0                               17.22   \n",
       "                                  1.0                               24.20   \n",
       "...                                                                   ...   \n",
       "ZINC4326719_2E07    13            1.0                               37.00   \n",
       "                                  1.0                               41.60   \n",
       "                                  1.0                               31.28   \n",
       "                                  1.0                               45.30   \n",
       "                                  1.0                               25.04   \n",
       "\n",
       "                                                      Velocity|Ratio Light/Dark  \n",
       "Drug                Experiment ID Concentration (µM)                             \n",
       "(+)-Mefloquine_2C11 11            1.0                                  4.761975  \n",
       "                                  1.0                                  2.885430  \n",
       "                                  1.0                                  2.207929  \n",
       "                                  1.0                                  1.463194  \n",
       "                                  1.0                                  2.986708  \n",
       "...                                                                         ...  \n",
       "ZINC4326719_2E07    13            1.0                                  1.806771  \n",
       "                                  1.0                                  3.127048  \n",
       "                                  1.0                                  2.494349  \n",
       "                                  1.0                                  2.198091  \n",
       "                                  1.0                                  2.869192  \n",
       "\n",
       "[2219 rows x 13 columns]"
      ]
     },
     "execution_count": 16,
     "metadata": {},
     "output_type": "execute_result"
    }
   ],
   "source": [
    "source = \"Data/old/2022-08-08_Behavior_Assay_Collected_Measurements_median.xlsx\"\n",
    "df = pd.read_excel(source)\n",
    "df = df.drop([\"Unnamed: 0\",\"Replicate\",\"Well\"],axis=1)\n",
    "df = df.set_index([\"Drug\",\"Experiment ID\",\"Concentration (µM)\"])\n",
    "df"
   ]
  },
  {
   "cell_type": "code",
   "execution_count": 57,
   "id": "686705f6-a9fa-4d8a-8307-31d1a4782634",
   "metadata": {},
   "outputs": [],
   "source": [
    "source = \"Data/old/2022-07-28_Morphology_Assay_effectscore.xlsx\"\n",
    "df = pd.read_excel(source,index_col=[0,1])\n",
    "df.index = df.index.set_names( ['Drug','Concentration (µM)'])"
   ]
  },
  {
   "cell_type": "code",
   "execution_count": 61,
   "id": "fea6c238-f7f1-458b-8d11-3f173f73e45f",
   "metadata": {},
   "outputs": [
    {
     "data": {
      "text/plain": [
       "\"('Hydroxyprogesterone_1E02', 1.0)\""
      ]
     },
     "execution_count": 61,
     "metadata": {},
     "output_type": "execute_result"
    }
   ],
   "source": [
    "str(df[\"Body length (µm)\"][df[\"Body length (µm)\"]==df[\"Body length (µm)\"].max()].index[0])"
   ]
  },
  {
   "cell_type": "code",
   "execution_count": 74,
   "id": "419245f6-65b6-49bf-b98e-d54e893fda25",
   "metadata": {},
   "outputs": [
    {
     "data": {
      "text/plain": [
       "array([False,  True, False, False])"
      ]
     },
     "execution_count": 76,
     "metadata": {},
     "output_type": "execute_result"
    }
   ],
   "source": [
    "[i[1] == 1.0 for i in df.index]"
   ]
  },
  {
   "cell_type": "code",
   "execution_count": 84,
   "id": "f925d39e-b4b5-43c3-94a9-862dea9fddcf",
   "metadata": {},
   "outputs": [
    {
     "data": {
      "text/html": [
       "<div>\n",
       "<style scoped>\n",
       "    .dataframe tbody tr th:only-of-type {\n",
       "        vertical-align: middle;\n",
       "    }\n",
       "\n",
       "    .dataframe tbody tr th {\n",
       "        vertical-align: top;\n",
       "    }\n",
       "\n",
       "    .dataframe thead th {\n",
       "        text-align: right;\n",
       "    }\n",
       "</style>\n",
       "<table border=\"1\" class=\"dataframe\">\n",
       "  <thead>\n",
       "    <tr style=\"text-align: right;\">\n",
       "      <th></th>\n",
       "      <th></th>\n",
       "      <th>Body length (µm)</th>\n",
       "      <th>Heart Rate (BPM)</th>\n",
       "      <th>Ejection fraction (%)</th>\n",
       "      <th>Number ISV (Count)</th>\n",
       "      <th>ISV area (µm^2)</th>\n",
       "    </tr>\n",
       "    <tr>\n",
       "      <th>Drug</th>\n",
       "      <th>Concentration (µM)</th>\n",
       "      <th></th>\n",
       "      <th></th>\n",
       "      <th></th>\n",
       "      <th></th>\n",
       "      <th></th>\n",
       "    </tr>\n",
       "  </thead>\n",
       "  <tbody>\n",
       "    <tr>\n",
       "      <th>GSK-369796_1C03</th>\n",
       "      <th>1.0</th>\n",
       "      <td>0.000002</td>\n",
       "      <td>-0.102928</td>\n",
       "      <td>0.146108</td>\n",
       "      <td>-0.04959</td>\n",
       "      <td>0.000020</td>\n",
       "    </tr>\n",
       "    <tr>\n",
       "      <th>Daclatasvir_1C04</th>\n",
       "      <th>1.0</th>\n",
       "      <td>-0.000015</td>\n",
       "      <td>-0.199853</td>\n",
       "      <td>-0.000086</td>\n",
       "      <td>0.00000</td>\n",
       "      <td>-0.005524</td>\n",
       "    </tr>\n",
       "    <tr>\n",
       "      <th>Lonafarnib_1C05</th>\n",
       "      <th>1.0</th>\n",
       "      <td>0.000033</td>\n",
       "      <td>-0.245995</td>\n",
       "      <td>0.031567</td>\n",
       "      <td>0.00000</td>\n",
       "      <td>-0.000007</td>\n",
       "    </tr>\n",
       "    <tr>\n",
       "      <th>Itraconazole_1C06</th>\n",
       "      <th>1.0</th>\n",
       "      <td>-0.003953</td>\n",
       "      <td>-0.477220</td>\n",
       "      <td>0.000000</td>\n",
       "      <td>0.00000</td>\n",
       "      <td>-0.004590</td>\n",
       "    </tr>\n",
       "    <tr>\n",
       "      <th>GSK 983_1C07</th>\n",
       "      <th>1.0</th>\n",
       "      <td>-0.000293</td>\n",
       "      <td>-0.085114</td>\n",
       "      <td>0.002966</td>\n",
       "      <td>0.00000</td>\n",
       "      <td>-0.001127</td>\n",
       "    </tr>\n",
       "    <tr>\n",
       "      <th>...</th>\n",
       "      <th>...</th>\n",
       "      <td>...</td>\n",
       "      <td>...</td>\n",
       "      <td>...</td>\n",
       "      <td>...</td>\n",
       "      <td>...</td>\n",
       "    </tr>\n",
       "    <tr>\n",
       "      <th>Niclosamide_1A02</th>\n",
       "      <th>0.5</th>\n",
       "      <td>-0.148128</td>\n",
       "      <td>-0.189194</td>\n",
       "      <td>0.000000</td>\n",
       "      <td>0.00000</td>\n",
       "      <td>0.001517</td>\n",
       "    </tr>\n",
       "    <tr>\n",
       "      <th rowspan=\"4\" valign=\"top\">Molnupiravir</th>\n",
       "      <th>0.5</th>\n",
       "      <td>-0.003440</td>\n",
       "      <td>0.000016</td>\n",
       "      <td>-0.024179</td>\n",
       "      <td>0.00000</td>\n",
       "      <td>-0.084541</td>\n",
       "    </tr>\n",
       "    <tr>\n",
       "      <th>1.0</th>\n",
       "      <td>-0.007477</td>\n",
       "      <td>-0.241445</td>\n",
       "      <td>-0.065034</td>\n",
       "      <td>0.00000</td>\n",
       "      <td>0.004766</td>\n",
       "    </tr>\n",
       "    <tr>\n",
       "      <th>10.0</th>\n",
       "      <td>-0.010342</td>\n",
       "      <td>-0.015725</td>\n",
       "      <td>-0.052379</td>\n",
       "      <td>0.00000</td>\n",
       "      <td>-0.009483</td>\n",
       "    </tr>\n",
       "    <tr>\n",
       "      <th>25.0</th>\n",
       "      <td>-0.004953</td>\n",
       "      <td>-0.009146</td>\n",
       "      <td>-0.003284</td>\n",
       "      <td>0.00000</td>\n",
       "      <td>-0.027759</td>\n",
       "    </tr>\n",
       "  </tbody>\n",
       "</table>\n",
       "<p>173 rows × 5 columns</p>\n",
       "</div>"
      ],
      "text/plain": [
       "                                      Body length (µm)  Heart Rate (BPM)  \\\n",
       "Drug              Concentration (µM)                                       \n",
       "GSK-369796_1C03   1.0                         0.000002         -0.102928   \n",
       "Daclatasvir_1C04  1.0                        -0.000015         -0.199853   \n",
       "Lonafarnib_1C05   1.0                         0.000033         -0.245995   \n",
       "Itraconazole_1C06 1.0                        -0.003953         -0.477220   \n",
       "GSK 983_1C07      1.0                        -0.000293         -0.085114   \n",
       "...                                                ...               ...   \n",
       "Niclosamide_1A02  0.5                        -0.148128         -0.189194   \n",
       "Molnupiravir      0.5                        -0.003440          0.000016   \n",
       "                  1.0                        -0.007477         -0.241445   \n",
       "                  10.0                       -0.010342         -0.015725   \n",
       "                  25.0                       -0.004953         -0.009146   \n",
       "\n",
       "                                      Ejection fraction (%)  \\\n",
       "Drug              Concentration (µM)                          \n",
       "GSK-369796_1C03   1.0                              0.146108   \n",
       "Daclatasvir_1C04  1.0                             -0.000086   \n",
       "Lonafarnib_1C05   1.0                              0.031567   \n",
       "Itraconazole_1C06 1.0                              0.000000   \n",
       "GSK 983_1C07      1.0                              0.002966   \n",
       "...                                                     ...   \n",
       "Niclosamide_1A02  0.5                              0.000000   \n",
       "Molnupiravir      0.5                             -0.024179   \n",
       "                  1.0                             -0.065034   \n",
       "                  10.0                            -0.052379   \n",
       "                  25.0                            -0.003284   \n",
       "\n",
       "                                      Number ISV (Count)  ISV area (µm^2)  \n",
       "Drug              Concentration (µM)                                       \n",
       "GSK-369796_1C03   1.0                           -0.04959         0.000020  \n",
       "Daclatasvir_1C04  1.0                            0.00000        -0.005524  \n",
       "Lonafarnib_1C05   1.0                            0.00000        -0.000007  \n",
       "Itraconazole_1C06 1.0                            0.00000        -0.004590  \n",
       "GSK 983_1C07      1.0                            0.00000        -0.001127  \n",
       "...                                                  ...              ...  \n",
       "Niclosamide_1A02  0.5                            0.00000         0.001517  \n",
       "Molnupiravir      0.5                            0.00000        -0.084541  \n",
       "                  1.0                            0.00000         0.004766  \n",
       "                  10.0                           0.00000        -0.009483  \n",
       "                  25.0                           0.00000        -0.027759  \n",
       "\n",
       "[173 rows x 5 columns]"
      ]
     },
     "execution_count": 84,
     "metadata": {},
     "output_type": "execute_result"
    }
   ],
   "source": [
    "es=\"Body length (µm)\"\n",
    "df_effscore_merge = df\n",
    "df_effscore_merge"
   ]
  },
  {
   "cell_type": "code",
   "execution_count": 90,
   "id": "668c08ef-f0c5-46c5-a944-75c966af7905",
   "metadata": {},
   "outputs": [],
   "source": []
  },
  {
   "cell_type": "code",
   "execution_count": 88,
   "id": "e046ac6b-ffb5-41a1-8105-316d0ed9a131",
   "metadata": {},
   "outputs": [
    {
     "data": {
      "text/html": [
       "<div>\n",
       "<style scoped>\n",
       "    .dataframe tbody tr th:only-of-type {\n",
       "        vertical-align: middle;\n",
       "    }\n",
       "\n",
       "    .dataframe tbody tr th {\n",
       "        vertical-align: top;\n",
       "    }\n",
       "\n",
       "    .dataframe thead th {\n",
       "        text-align: right;\n",
       "    }\n",
       "</style>\n",
       "<table border=\"1\" class=\"dataframe\">\n",
       "  <thead>\n",
       "    <tr style=\"text-align: right;\">\n",
       "      <th></th>\n",
       "      <th></th>\n",
       "      <th>Body length (µm)</th>\n",
       "      <th>Heart Rate (BPM)</th>\n",
       "      <th>Ejection fraction (%)</th>\n",
       "      <th>Number ISV (Count)</th>\n",
       "      <th>ISV area (µm^2)</th>\n",
       "    </tr>\n",
       "    <tr>\n",
       "      <th>Drug</th>\n",
       "      <th>Concentration (µM)</th>\n",
       "      <th></th>\n",
       "      <th></th>\n",
       "      <th></th>\n",
       "      <th></th>\n",
       "      <th></th>\n",
       "    </tr>\n",
       "  </thead>\n",
       "  <tbody>\n",
       "    <tr>\n",
       "      <th>GSK-369796_1C03</th>\n",
       "      <th>1.0</th>\n",
       "      <td>0.000002</td>\n",
       "      <td>-0.102928</td>\n",
       "      <td>0.146108</td>\n",
       "      <td>-0.049590</td>\n",
       "      <td>0.000020</td>\n",
       "    </tr>\n",
       "    <tr>\n",
       "      <th>Daclatasvir_1C04</th>\n",
       "      <th>1.0</th>\n",
       "      <td>-0.000015</td>\n",
       "      <td>-0.199853</td>\n",
       "      <td>-0.000086</td>\n",
       "      <td>0.000000</td>\n",
       "      <td>-0.005524</td>\n",
       "    </tr>\n",
       "    <tr>\n",
       "      <th>Lonafarnib_1C05</th>\n",
       "      <th>1.0</th>\n",
       "      <td>0.000033</td>\n",
       "      <td>-0.245995</td>\n",
       "      <td>0.031567</td>\n",
       "      <td>0.000000</td>\n",
       "      <td>-0.000007</td>\n",
       "    </tr>\n",
       "    <tr>\n",
       "      <th>Itraconazole_1C06</th>\n",
       "      <th>1.0</th>\n",
       "      <td>-0.003953</td>\n",
       "      <td>-0.477220</td>\n",
       "      <td>0.000000</td>\n",
       "      <td>0.000000</td>\n",
       "      <td>-0.004590</td>\n",
       "    </tr>\n",
       "    <tr>\n",
       "      <th>GSK 983_1C07</th>\n",
       "      <th>1.0</th>\n",
       "      <td>-0.000293</td>\n",
       "      <td>-0.085114</td>\n",
       "      <td>0.002966</td>\n",
       "      <td>0.000000</td>\n",
       "      <td>-0.001127</td>\n",
       "    </tr>\n",
       "    <tr>\n",
       "      <th>...</th>\n",
       "      <th>...</th>\n",
       "      <td>...</td>\n",
       "      <td>...</td>\n",
       "      <td>...</td>\n",
       "      <td>...</td>\n",
       "      <td>...</td>\n",
       "    </tr>\n",
       "    <tr>\n",
       "      <th>Verapamil_1B08</th>\n",
       "      <th>1.0</th>\n",
       "      <td>-0.000911</td>\n",
       "      <td>-0.000085</td>\n",
       "      <td>0.002972</td>\n",
       "      <td>0.000000</td>\n",
       "      <td>0.001694</td>\n",
       "    </tr>\n",
       "    <tr>\n",
       "      <th>R 7112_1B09</th>\n",
       "      <th>1.0</th>\n",
       "      <td>0.007787</td>\n",
       "      <td>0.003414</td>\n",
       "      <td>0.000137</td>\n",
       "      <td>0.012873</td>\n",
       "      <td>0.000019</td>\n",
       "    </tr>\n",
       "    <tr>\n",
       "      <th>Atazanavir_1B10</th>\n",
       "      <th>1.0</th>\n",
       "      <td>0.009477</td>\n",
       "      <td>-0.000006</td>\n",
       "      <td>0.022957</td>\n",
       "      <td>0.000000</td>\n",
       "      <td>0.067089</td>\n",
       "    </tr>\n",
       "    <tr>\n",
       "      <th>Ruxolitinib_1B11</th>\n",
       "      <th>1.0</th>\n",
       "      <td>-0.001106</td>\n",
       "      <td>-0.045463</td>\n",
       "      <td>0.000034</td>\n",
       "      <td>0.004282</td>\n",
       "      <td>-0.011624</td>\n",
       "    </tr>\n",
       "    <tr>\n",
       "      <th>Molnupiravir</th>\n",
       "      <th>1.0</th>\n",
       "      <td>-0.007477</td>\n",
       "      <td>-0.241445</td>\n",
       "      <td>-0.065034</td>\n",
       "      <td>0.000000</td>\n",
       "      <td>0.004766</td>\n",
       "    </tr>\n",
       "  </tbody>\n",
       "</table>\n",
       "<p>159 rows × 5 columns</p>\n",
       "</div>"
      ],
      "text/plain": [
       "                                      Body length (µm)  Heart Rate (BPM)  \\\n",
       "Drug              Concentration (µM)                                       \n",
       "GSK-369796_1C03   1.0                         0.000002         -0.102928   \n",
       "Daclatasvir_1C04  1.0                        -0.000015         -0.199853   \n",
       "Lonafarnib_1C05   1.0                         0.000033         -0.245995   \n",
       "Itraconazole_1C06 1.0                        -0.003953         -0.477220   \n",
       "GSK 983_1C07      1.0                        -0.000293         -0.085114   \n",
       "...                                                ...               ...   \n",
       "Verapamil_1B08    1.0                        -0.000911         -0.000085   \n",
       "R 7112_1B09       1.0                         0.007787          0.003414   \n",
       "Atazanavir_1B10   1.0                         0.009477         -0.000006   \n",
       "Ruxolitinib_1B11  1.0                        -0.001106         -0.045463   \n",
       "Molnupiravir      1.0                        -0.007477         -0.241445   \n",
       "\n",
       "                                      Ejection fraction (%)  \\\n",
       "Drug              Concentration (µM)                          \n",
       "GSK-369796_1C03   1.0                              0.146108   \n",
       "Daclatasvir_1C04  1.0                             -0.000086   \n",
       "Lonafarnib_1C05   1.0                              0.031567   \n",
       "Itraconazole_1C06 1.0                              0.000000   \n",
       "GSK 983_1C07      1.0                              0.002966   \n",
       "...                                                     ...   \n",
       "Verapamil_1B08    1.0                              0.002972   \n",
       "R 7112_1B09       1.0                              0.000137   \n",
       "Atazanavir_1B10   1.0                              0.022957   \n",
       "Ruxolitinib_1B11  1.0                              0.000034   \n",
       "Molnupiravir      1.0                             -0.065034   \n",
       "\n",
       "                                      Number ISV (Count)  ISV area (µm^2)  \n",
       "Drug              Concentration (µM)                                       \n",
       "GSK-369796_1C03   1.0                          -0.049590         0.000020  \n",
       "Daclatasvir_1C04  1.0                           0.000000        -0.005524  \n",
       "Lonafarnib_1C05   1.0                           0.000000        -0.000007  \n",
       "Itraconazole_1C06 1.0                           0.000000        -0.004590  \n",
       "GSK 983_1C07      1.0                           0.000000        -0.001127  \n",
       "...                                                  ...              ...  \n",
       "Verapamil_1B08    1.0                           0.000000         0.001694  \n",
       "R 7112_1B09       1.0                           0.012873         0.000019  \n",
       "Atazanavir_1B10   1.0                           0.000000         0.067089  \n",
       "Ruxolitinib_1B11  1.0                           0.004282        -0.011624  \n",
       "Molnupiravir      1.0                           0.000000         0.004766  \n",
       "\n",
       "[159 rows x 5 columns]"
      ]
     },
     "execution_count": 88,
     "metadata": {},
     "output_type": "execute_result"
    }
   ],
   "source": [
    "df_effscore_merge[a]"
   ]
  },
  {
   "cell_type": "code",
   "execution_count": 102,
   "id": "8cae6d63-3826-4af1-bd44-05571eaf2e43",
   "metadata": {},
   "outputs": [
    {
     "name": "stderr",
     "output_type": "stream",
     "text": [
      "C:\\Users\\aernst\\Miniconda3\\envs\\TF25\\lib\\site-packages\\pandas\\core\\generic.py:4150: PerformanceWarning: dropping on a non-lexsorted multi-index without a level parameter may impact performance.\n",
      "  obj = obj._drop_axis(labels, axis, level=level, errors=errors)\n"
     ]
    },
    {
     "data": {
      "text/html": [
       "<div>\n",
       "<style scoped>\n",
       "    .dataframe tbody tr th:only-of-type {\n",
       "        vertical-align: middle;\n",
       "    }\n",
       "\n",
       "    .dataframe tbody tr th {\n",
       "        vertical-align: top;\n",
       "    }\n",
       "\n",
       "    .dataframe thead tr th {\n",
       "        text-align: left;\n",
       "    }\n",
       "\n",
       "    .dataframe thead tr:last-of-type th {\n",
       "        text-align: right;\n",
       "    }\n",
       "</style>\n",
       "<table border=\"1\" class=\"dataframe\">\n",
       "  <thead>\n",
       "    <tr>\n",
       "      <th></th>\n",
       "      <th colspan=\"6\" halign=\"left\">Origin</th>\n",
       "      <th colspan=\"2\" halign=\"left\">No</th>\n",
       "      <th colspan=\"2\" halign=\"left\">Covid-19</th>\n",
       "      <th colspan=\"2\" halign=\"left\">heart</th>\n",
       "      <th colspan=\"2\" halign=\"left\">embryo</th>\n",
       "      <th>heart-embryo</th>\n",
       "    </tr>\n",
       "    <tr>\n",
       "      <th></th>\n",
       "      <th>Drug ID</th>\n",
       "      <th>Plate ID</th>\n",
       "      <th>Well ID</th>\n",
       "      <th>TRIVIAL_NAME</th>\n",
       "      <th>MODIFIED_NAME</th>\n",
       "      <th>SYNONYMS</th>\n",
       "      <th>Count</th>\n",
       "      <th>PID</th>\n",
       "      <th>Count</th>\n",
       "      <th>PID</th>\n",
       "      <th>Count</th>\n",
       "      <th>PID</th>\n",
       "      <th>Count</th>\n",
       "      <th>PID</th>\n",
       "      <th>Intersection</th>\n",
       "    </tr>\n",
       "    <tr>\n",
       "      <th>(Origin, Tag)</th>\n",
       "      <th></th>\n",
       "      <th></th>\n",
       "      <th></th>\n",
       "      <th></th>\n",
       "      <th></th>\n",
       "      <th></th>\n",
       "      <th></th>\n",
       "      <th></th>\n",
       "      <th></th>\n",
       "      <th></th>\n",
       "      <th></th>\n",
       "      <th></th>\n",
       "      <th></th>\n",
       "      <th></th>\n",
       "      <th></th>\n",
       "    </tr>\n",
       "  </thead>\n",
       "  <tbody>\n",
       "    <tr>\n",
       "      <th>Niclosamide_1A02</th>\n",
       "      <td>1.0</td>\n",
       "      <td>1.0</td>\n",
       "      <td>A02</td>\n",
       "      <td>Niclosamide</td>\n",
       "      <td>Niclosamide</td>\n",
       "      <td>['Niclosamide', 'niclosamide', '50-65-7', '5-C...</td>\n",
       "      <td>1254.0</td>\n",
       "      <td>['35810364', '35807513', '35772635', '35717393...</td>\n",
       "      <td>54.0</td>\n",
       "      <td>['35717393', '35670331', '35478590', '35348204...</td>\n",
       "      <td>35.0</td>\n",
       "      <td>['35127876', '34966659', '34807278', '34795040...</td>\n",
       "      <td>25.0</td>\n",
       "      <td>['32842803', '32185932', '31790986', '31398420...</td>\n",
       "      <td>2.0</td>\n",
       "    </tr>\n",
       "    <tr>\n",
       "      <th>Lusutrombopag_1A03</th>\n",
       "      <td>2.0</td>\n",
       "      <td>1.0</td>\n",
       "      <td>A03</td>\n",
       "      <td>Lusutrombopag</td>\n",
       "      <td>Lusutrombopag</td>\n",
       "      <td>['Lusutrombopag', 'LUSUTROMBOPAG', '1110766-97...</td>\n",
       "      <td>66.0</td>\n",
       "      <td>['34953107', '34904508', '34815110', '34813257...</td>\n",
       "      <td>0.0</td>\n",
       "      <td>[]</td>\n",
       "      <td>1.0</td>\n",
       "      <td>['34393785']</td>\n",
       "      <td>0.0</td>\n",
       "      <td>[]</td>\n",
       "      <td>0.0</td>\n",
       "    </tr>\n",
       "    <tr>\n",
       "      <th>Bemcentinib_1A04</th>\n",
       "      <td>3.0</td>\n",
       "      <td>1.0</td>\n",
       "      <td>A04</td>\n",
       "      <td>Bemcentinib</td>\n",
       "      <td>Bemcentinib</td>\n",
       "      <td>['Bemcentinib', 'Bemcentinib', '1037624-75-1',...</td>\n",
       "      <td>155.0</td>\n",
       "      <td>['35805163', '35741013', '35546091', '35537396...</td>\n",
       "      <td>14.0</td>\n",
       "      <td>['35434729', '34797899', '34782372', '34766004...</td>\n",
       "      <td>24.0</td>\n",
       "      <td>['35198582', '35004753', '34861551', '34539853...</td>\n",
       "      <td>4.0</td>\n",
       "      <td>['31347670', '30189359', '27703030', '19494171']</td>\n",
       "      <td>1.0</td>\n",
       "    </tr>\n",
       "    <tr>\n",
       "      <th>ONO 5334_1A05</th>\n",
       "      <td>4.0</td>\n",
       "      <td>1.0</td>\n",
       "      <td>A05</td>\n",
       "      <td>ONO 5334</td>\n",
       "      <td>ONO 5334</td>\n",
       "      <td>['ONO 5334', 'ONO-5334', 'UNII-9TDN93L9FN', '9...</td>\n",
       "      <td>27.0</td>\n",
       "      <td>['32707573', '32511357', '30906325', '30663085...</td>\n",
       "      <td>2.0</td>\n",
       "      <td>['32707573', '32511357']</td>\n",
       "      <td>0.0</td>\n",
       "      <td>[]</td>\n",
       "      <td>0.0</td>\n",
       "      <td>[]</td>\n",
       "      <td>0.0</td>\n",
       "    </tr>\n",
       "    <tr>\n",
       "      <th>Remdesivir_1A06</th>\n",
       "      <td>5.0</td>\n",
       "      <td>1.0</td>\n",
       "      <td>A06</td>\n",
       "      <td>Remdesivir</td>\n",
       "      <td>Remdesivir</td>\n",
       "      <td>['Remdesivir', '1809249-37-3', '3QKI37EEHE', '...</td>\n",
       "      <td>2877.0</td>\n",
       "      <td>['35817072', '35816544', '35814322', '35807123...</td>\n",
       "      <td>2764.0</td>\n",
       "      <td>['35817072', '35814322', '35807123', '35807058...</td>\n",
       "      <td>280.0</td>\n",
       "      <td>['35814322', '35802524', '35773622', '35752504...</td>\n",
       "      <td>75.0</td>\n",
       "      <td>['35671622', '35605700', '35560222', '35506126...</td>\n",
       "      <td>8.0</td>\n",
       "    </tr>\n",
       "    <tr>\n",
       "      <th>...</th>\n",
       "      <td>...</td>\n",
       "      <td>...</td>\n",
       "      <td>...</td>\n",
       "      <td>...</td>\n",
       "      <td>...</td>\n",
       "      <td>...</td>\n",
       "      <td>...</td>\n",
       "      <td>...</td>\n",
       "      <td>...</td>\n",
       "      <td>...</td>\n",
       "      <td>...</td>\n",
       "      <td>...</td>\n",
       "      <td>...</td>\n",
       "      <td>...</td>\n",
       "      <td>...</td>\n",
       "    </tr>\n",
       "    <tr>\n",
       "      <th>Chlorothiazide_2H08</th>\n",
       "      <td>157.0</td>\n",
       "      <td>2.0</td>\n",
       "      <td>H08</td>\n",
       "      <td>Chlorothiazide</td>\n",
       "      <td>Chlorothiazide</td>\n",
       "      <td>['Chlorothiazide', 'chlorothiazide', '58-94-6'...</td>\n",
       "      <td>2566.0</td>\n",
       "      <td>['35713009', '35688407', '35675480', '35537450...</td>\n",
       "      <td>0.0</td>\n",
       "      <td>[]</td>\n",
       "      <td>364.0</td>\n",
       "      <td>['35713009', '35688407', '35537450', '35278085...</td>\n",
       "      <td>137.0</td>\n",
       "      <td>['32555118', '20301356', '17177070', '11205055...</td>\n",
       "      <td>7.0</td>\n",
       "    </tr>\n",
       "    <tr>\n",
       "      <th>Apixaban_2H09</th>\n",
       "      <td>158.0</td>\n",
       "      <td>2.0</td>\n",
       "      <td>H09</td>\n",
       "      <td>Apixaban</td>\n",
       "      <td>Apixaban</td>\n",
       "      <td>['Apixaban', 'Apixaban', '503612-47-3', 'Eliqu...</td>\n",
       "      <td>4948.0</td>\n",
       "      <td>['35817368', '35816976', '35807073', '35802123...</td>\n",
       "      <td>88.0</td>\n",
       "      <td>['35797292', '35772465', '35763168', '35759391...</td>\n",
       "      <td>1601.0</td>\n",
       "      <td>['35807073', '35790995', '35785621', '35785369...</td>\n",
       "      <td>42.0</td>\n",
       "      <td>['35322952', '35316943', '35089274', '34650936...</td>\n",
       "      <td>9.0</td>\n",
       "    </tr>\n",
       "    <tr>\n",
       "      <th>Naphtoquine_2H10</th>\n",
       "      <td>159.0</td>\n",
       "      <td>2.0</td>\n",
       "      <td>H10</td>\n",
       "      <td>Naphtoquine</td>\n",
       "      <td>Naphthoquine</td>\n",
       "      <td>['Naphthoquine', 'Naphthoquine', 'UNII-TRY8UD4...</td>\n",
       "      <td>63.0</td>\n",
       "      <td>['35465706', '35163977', '34991686', '33992862...</td>\n",
       "      <td>1.0</td>\n",
       "      <td>['35163977']</td>\n",
       "      <td>1.0</td>\n",
       "      <td>['27075024']</td>\n",
       "      <td>1.0</td>\n",
       "      <td>['28790788']</td>\n",
       "      <td>0.0</td>\n",
       "    </tr>\n",
       "    <tr>\n",
       "      <th>Piperaquine_2H11</th>\n",
       "      <td>160.0</td>\n",
       "      <td>2.0</td>\n",
       "      <td>H11</td>\n",
       "      <td>Piperaquine</td>\n",
       "      <td>Piperaquine</td>\n",
       "      <td>['Piperaquine', 'piperaquine', '4085-31-8', 'P...</td>\n",
       "      <td>937.0</td>\n",
       "      <td>['35779563', '35761273', '35755479', '35739554...</td>\n",
       "      <td>9.0</td>\n",
       "      <td>['35739554', '34300178', '34217752', '33617948...</td>\n",
       "      <td>34.0</td>\n",
       "      <td>['35685860', '35543380', '34864925', '34492005...</td>\n",
       "      <td>106.0</td>\n",
       "      <td>['35672703', '35477399', '35288747', '35217408...</td>\n",
       "      <td>4.0</td>\n",
       "    </tr>\n",
       "    <tr>\n",
       "      <th>Molnupiravir</th>\n",
       "      <td>161.0</td>\n",
       "      <td>0.0</td>\n",
       "      <td>xxx</td>\n",
       "      <td>Molnupiravir</td>\n",
       "      <td>Molnupiravir</td>\n",
       "      <td>['Molnupiravir', 'EIDD 2801', 'EIDD-2801', 'EI...</td>\n",
       "      <td>264.0</td>\n",
       "      <td>['35810537', '35807123', '35803465', '35798223...</td>\n",
       "      <td>245.0</td>\n",
       "      <td>['35810537', '35807123', '35803465', '35798223...</td>\n",
       "      <td>9.0</td>\n",
       "      <td>['35522372', '35341442', '35279008', '35185356...</td>\n",
       "      <td>5.0</td>\n",
       "      <td>['35545195', '35185356', '35134041', '35134040...</td>\n",
       "      <td>1.0</td>\n",
       "    </tr>\n",
       "  </tbody>\n",
       "</table>\n",
       "<p>161 rows × 15 columns</p>\n",
       "</div>"
      ],
      "text/plain": [
       "                     Origin                                                   \\\n",
       "                    Drug ID Plate ID Well ID    TRIVIAL_NAME   MODIFIED_NAME   \n",
       "(Origin, Tag)                                                                  \n",
       "Niclosamide_1A02        1.0      1.0     A02     Niclosamide     Niclosamide   \n",
       "Lusutrombopag_1A03      2.0      1.0     A03   Lusutrombopag   Lusutrombopag   \n",
       "Bemcentinib_1A04        3.0      1.0     A04     Bemcentinib     Bemcentinib   \n",
       "ONO 5334_1A05           4.0      1.0     A05        ONO 5334        ONO 5334   \n",
       "Remdesivir_1A06         5.0      1.0     A06      Remdesivir      Remdesivir   \n",
       "...                     ...      ...     ...             ...             ...   \n",
       "Chlorothiazide_2H08   157.0      2.0     H08  Chlorothiazide  Chlorothiazide   \n",
       "Apixaban_2H09         158.0      2.0     H09        Apixaban        Apixaban   \n",
       "Naphtoquine_2H10      159.0      2.0     H10     Naphtoquine    Naphthoquine   \n",
       "Piperaquine_2H11      160.0      2.0     H11     Piperaquine     Piperaquine   \n",
       "Molnupiravir          161.0      0.0     xxx    Molnupiravir    Molnupiravir   \n",
       "\n",
       "                                                                        \\\n",
       "                                                              SYNONYMS   \n",
       "(Origin, Tag)                                                            \n",
       "Niclosamide_1A02     ['Niclosamide', 'niclosamide', '50-65-7', '5-C...   \n",
       "Lusutrombopag_1A03   ['Lusutrombopag', 'LUSUTROMBOPAG', '1110766-97...   \n",
       "Bemcentinib_1A04     ['Bemcentinib', 'Bemcentinib', '1037624-75-1',...   \n",
       "ONO 5334_1A05        ['ONO 5334', 'ONO-5334', 'UNII-9TDN93L9FN', '9...   \n",
       "Remdesivir_1A06      ['Remdesivir', '1809249-37-3', '3QKI37EEHE', '...   \n",
       "...                                                                ...   \n",
       "Chlorothiazide_2H08  ['Chlorothiazide', 'chlorothiazide', '58-94-6'...   \n",
       "Apixaban_2H09        ['Apixaban', 'Apixaban', '503612-47-3', 'Eliqu...   \n",
       "Naphtoquine_2H10     ['Naphthoquine', 'Naphthoquine', 'UNII-TRY8UD4...   \n",
       "Piperaquine_2H11     ['Piperaquine', 'piperaquine', '4085-31-8', 'P...   \n",
       "Molnupiravir         ['Molnupiravir', 'EIDD 2801', 'EIDD-2801', 'EI...   \n",
       "\n",
       "                         No  \\\n",
       "                      Count   \n",
       "(Origin, Tag)                 \n",
       "Niclosamide_1A02     1254.0   \n",
       "Lusutrombopag_1A03     66.0   \n",
       "Bemcentinib_1A04      155.0   \n",
       "ONO 5334_1A05          27.0   \n",
       "Remdesivir_1A06      2877.0   \n",
       "...                     ...   \n",
       "Chlorothiazide_2H08  2566.0   \n",
       "Apixaban_2H09        4948.0   \n",
       "Naphtoquine_2H10       63.0   \n",
       "Piperaquine_2H11      937.0   \n",
       "Molnupiravir          264.0   \n",
       "\n",
       "                                                                        \\\n",
       "                                                                   PID   \n",
       "(Origin, Tag)                                                            \n",
       "Niclosamide_1A02     ['35810364', '35807513', '35772635', '35717393...   \n",
       "Lusutrombopag_1A03   ['34953107', '34904508', '34815110', '34813257...   \n",
       "Bemcentinib_1A04     ['35805163', '35741013', '35546091', '35537396...   \n",
       "ONO 5334_1A05        ['32707573', '32511357', '30906325', '30663085...   \n",
       "Remdesivir_1A06      ['35817072', '35816544', '35814322', '35807123...   \n",
       "...                                                                ...   \n",
       "Chlorothiazide_2H08  ['35713009', '35688407', '35675480', '35537450...   \n",
       "Apixaban_2H09        ['35817368', '35816976', '35807073', '35802123...   \n",
       "Naphtoquine_2H10     ['35465706', '35163977', '34991686', '33992862...   \n",
       "Piperaquine_2H11     ['35779563', '35761273', '35755479', '35739554...   \n",
       "Molnupiravir         ['35810537', '35807123', '35803465', '35798223...   \n",
       "\n",
       "                    Covid-19  \\\n",
       "                       Count   \n",
       "(Origin, Tag)                  \n",
       "Niclosamide_1A02        54.0   \n",
       "Lusutrombopag_1A03       0.0   \n",
       "Bemcentinib_1A04        14.0   \n",
       "ONO 5334_1A05            2.0   \n",
       "Remdesivir_1A06       2764.0   \n",
       "...                      ...   \n",
       "Chlorothiazide_2H08      0.0   \n",
       "Apixaban_2H09           88.0   \n",
       "Naphtoquine_2H10         1.0   \n",
       "Piperaquine_2H11         9.0   \n",
       "Molnupiravir           245.0   \n",
       "\n",
       "                                                                        \\\n",
       "                                                                   PID   \n",
       "(Origin, Tag)                                                            \n",
       "Niclosamide_1A02     ['35717393', '35670331', '35478590', '35348204...   \n",
       "Lusutrombopag_1A03                                                  []   \n",
       "Bemcentinib_1A04     ['35434729', '34797899', '34782372', '34766004...   \n",
       "ONO 5334_1A05                                 ['32707573', '32511357']   \n",
       "Remdesivir_1A06      ['35817072', '35814322', '35807123', '35807058...   \n",
       "...                                                                ...   \n",
       "Chlorothiazide_2H08                                                 []   \n",
       "Apixaban_2H09        ['35797292', '35772465', '35763168', '35759391...   \n",
       "Naphtoquine_2H10                                          ['35163977']   \n",
       "Piperaquine_2H11     ['35739554', '34300178', '34217752', '33617948...   \n",
       "Molnupiravir         ['35810537', '35807123', '35803465', '35798223...   \n",
       "\n",
       "                      heart  \\\n",
       "                      Count   \n",
       "(Origin, Tag)                 \n",
       "Niclosamide_1A02       35.0   \n",
       "Lusutrombopag_1A03      1.0   \n",
       "Bemcentinib_1A04       24.0   \n",
       "ONO 5334_1A05           0.0   \n",
       "Remdesivir_1A06       280.0   \n",
       "...                     ...   \n",
       "Chlorothiazide_2H08   364.0   \n",
       "Apixaban_2H09        1601.0   \n",
       "Naphtoquine_2H10        1.0   \n",
       "Piperaquine_2H11       34.0   \n",
       "Molnupiravir            9.0   \n",
       "\n",
       "                                                                       embryo  \\\n",
       "                                                                   PID  Count   \n",
       "(Origin, Tag)                                                                   \n",
       "Niclosamide_1A02     ['35127876', '34966659', '34807278', '34795040...   25.0   \n",
       "Lusutrombopag_1A03                                        ['34393785']    0.0   \n",
       "Bemcentinib_1A04     ['35198582', '35004753', '34861551', '34539853...    4.0   \n",
       "ONO 5334_1A05                                                       []    0.0   \n",
       "Remdesivir_1A06      ['35814322', '35802524', '35773622', '35752504...   75.0   \n",
       "...                                                                ...    ...   \n",
       "Chlorothiazide_2H08  ['35713009', '35688407', '35537450', '35278085...  137.0   \n",
       "Apixaban_2H09        ['35807073', '35790995', '35785621', '35785369...   42.0   \n",
       "Naphtoquine_2H10                                          ['27075024']    1.0   \n",
       "Piperaquine_2H11     ['35685860', '35543380', '34864925', '34492005...  106.0   \n",
       "Molnupiravir         ['35522372', '35341442', '35279008', '35185356...    5.0   \n",
       "\n",
       "                                                                        \\\n",
       "                                                                   PID   \n",
       "(Origin, Tag)                                                            \n",
       "Niclosamide_1A02     ['32842803', '32185932', '31790986', '31398420...   \n",
       "Lusutrombopag_1A03                                                  []   \n",
       "Bemcentinib_1A04      ['31347670', '30189359', '27703030', '19494171']   \n",
       "ONO 5334_1A05                                                       []   \n",
       "Remdesivir_1A06      ['35671622', '35605700', '35560222', '35506126...   \n",
       "...                                                                ...   \n",
       "Chlorothiazide_2H08  ['32555118', '20301356', '17177070', '11205055...   \n",
       "Apixaban_2H09        ['35322952', '35316943', '35089274', '34650936...   \n",
       "Naphtoquine_2H10                                          ['28790788']   \n",
       "Piperaquine_2H11     ['35672703', '35477399', '35288747', '35217408...   \n",
       "Molnupiravir         ['35545195', '35185356', '35134041', '35134040...   \n",
       "\n",
       "                    heart-embryo  \n",
       "                    Intersection  \n",
       "(Origin, Tag)                     \n",
       "Niclosamide_1A02             2.0  \n",
       "Lusutrombopag_1A03           0.0  \n",
       "Bemcentinib_1A04             1.0  \n",
       "ONO 5334_1A05                0.0  \n",
       "Remdesivir_1A06              8.0  \n",
       "...                          ...  \n",
       "Chlorothiazide_2H08          7.0  \n",
       "Apixaban_2H09                9.0  \n",
       "Naphtoquine_2H10             0.0  \n",
       "Piperaquine_2H11             4.0  \n",
       "Molnupiravir                 1.0  \n",
       "\n",
       "[161 rows x 15 columns]"
      ]
     },
     "execution_count": 102,
     "metadata": {},
     "output_type": "execute_result"
    }
   ],
   "source": [
    "df_lit = pd.read_excel(\"Data/old/CovidDrugScreen_Results_Literature_intersection_2022-07-12.xlsx\",header=[0,1]).dropna().drop(\"Unnamed: 0_level_0\", axis = 1).set_index((\"Origin\",\"Tag\"))\n",
    "df_lit"
   ]
  },
  {
   "cell_type": "code",
   "execution_count": 63,
   "id": "3e739eb3-3e19-4642-b869-78dace53888d",
   "metadata": {},
   "outputs": [
    {
     "data": {
      "text/plain": [
       "Index(['TRIVIAL_NAME', 'Synonyms', '('total', 'Count')', '('total', 'PID')',\n",
       "       '('Covid-19', 'Count')', '('Covid-19', 'PID')',\n",
       "       '('Cardiovascular', 'Count')', '('Cardiovascular', 'PID')',\n",
       "       '('Development', 'Count')', '('Development', 'PID')',\n",
       "       '(('total', 'PID'), ('Covid-19', 'PID'))',\n",
       "       '(('total', 'PID'), ('Cardiovascular', 'PID'))',\n",
       "       '(('total', 'PID'), ('Development', 'PID'))',\n",
       "       '(('Covid-19', 'PID'), ('Cardiovascular', 'PID'))',\n",
       "       '(('Covid-19', 'PID'), ('Development', 'PID'))',\n",
       "       '(('Cardiovascular', 'PID'), ('Development', 'PID'))', 'Drug',\n",
       "       'Indication 1', 'Indication 2'],\n",
       "      dtype='object')"
      ]
     },
     "execution_count": 63,
     "metadata": {},
     "output_type": "execute_result"
    }
   ],
   "source": [
    "df_lit = pd.read_excel(\"Data/2023-01-20_LiteratureSearch_Results.xlsx\",header=[0]).drop(\"Unnamed: 0\", axis = 1).rename(columns={\"Compound\":\"TRIVIAL_NAME\"})\n",
    "df_lit = pd.merge(df_lit,df_ind)\n",
    "df_lit.columns"
   ]
  },
  {
   "cell_type": "code",
   "execution_count": 59,
   "id": "81810cbe-f97f-42ae-ad22-8b3684bc31d5",
   "metadata": {
    "tags": []
   },
   "outputs": [],
   "source": [
    "def get_indications():\n",
    "    df_mmv = pd.read_excel(\"Data/CovidBox_Map.xlsx\")\n",
    "    df_mmv[\"Drug\"] = df_mmv[\"TRIVIAL_NAME\"] + \"_\" + df_mmv[\"Plate ID\"].astype(str).str.replace(\".0\",\"\") + df_mmv[\"Well ID\"]\n",
    "    df_mmv = df_mmv[[\"TRIVIAL_NAME\",\"Drug\",\"Indication\"]]\n",
    "    df_mmv[[\"Indication 1\",\"Indication 2\"]] = df_mmv[\"Indication\"].str.split(\" - \",expand = True)\n",
    "    df_mmv = df_mmv.drop(\"Indication\",axis=1)\n",
    "    ind1 = list(df_mmv[\"Indication 1\"].unique())\n",
    "    ind2 = list(df_mmv[\"Indication 2\"].unique())\n",
    "    return df_mmv, ind1, ind2\n"
   ]
  },
  {
   "cell_type": "code",
   "execution_count": 60,
   "id": "e9efd602-ed11-4d85-9742-d4994f3341eb",
   "metadata": {
    "tags": []
   },
   "outputs": [
    {
     "name": "stderr",
     "output_type": "stream",
     "text": [
      "C:\\Users\\aernst\\AppData\\Local\\Temp\\ipykernel_11432\\504811823.py:3: FutureWarning: The default value of regex will change from True to False in a future version.\n",
      "  df_mmv[\"Drug\"] = df_mmv[\"TRIVIAL_NAME\"] + \"_\" + df_mmv[\"Plate ID\"].astype(str).str.replace(\".0\",\"\") + df_mmv[\"Well ID\"]\n"
     ]
    }
   ],
   "source": [
    "df_ind,i1,i2 = get_indications()\n"
   ]
  },
  {
   "cell_type": "code",
   "execution_count": 112,
   "id": "b0a35dc9-128d-4254-87fb-54e5f41111c2",
   "metadata": {
    "tags": []
   },
   "outputs": [],
   "source": [
    "df_morph_heat = pd.read_excel(\"./Data/2023-01-20_Morphology_Assay_effectscore.xlsx\").rename( columns={'Unnamed: 0':'Drug','Unnamed: 1':'Concentration (µM)'}).fillna(method='ffill', axis=0)\n",
    "df_behav_heat = pd.read_excel(\"./Data/2023-02-16_Behavior_Assay_effectscore.xlsx\").rename( columns={'Unnamed: 0':'Drug','Unnamed: 1':'Concentration (µM)'}).fillna(method='ffill', axis=0)\n",
    "df_merge_heat = pd.merge(df_morph_heat,df_behav_heat,left_on=[\"Drug\",'Concentration (µM)'],right_on=[\"Drug\",'Concentration (µM)'],how=\"outer\").set_index([\"Drug\",'Concentration (µM)'])\n",
    "df_merge_heat.to_excel(\"./Data/2023-02-19_MorphBehav_Merged_Effectscore.xlsx\")\n"
   ]
  },
  {
   "cell_type": "code",
   "execution_count": 108,
   "id": "6b532ba4-782e-499a-b62e-36e36a4f43c6",
   "metadata": {
    "tags": []
   },
   "outputs": [
    {
     "data": {
      "text/html": [
       "<div>\n",
       "<style scoped>\n",
       "    .dataframe tbody tr th:only-of-type {\n",
       "        vertical-align: middle;\n",
       "    }\n",
       "\n",
       "    .dataframe tbody tr th {\n",
       "        vertical-align: top;\n",
       "    }\n",
       "\n",
       "    .dataframe thead th {\n",
       "        text-align: right;\n",
       "    }\n",
       "</style>\n",
       "<table border=\"1\" class=\"dataframe\">\n",
       "  <thead>\n",
       "    <tr style=\"text-align: right;\">\n",
       "      <th></th>\n",
       "      <th>Concentration (µM)</th>\n",
       "      <th>Body length (µm)</th>\n",
       "      <th>Heart Rate (BPM)</th>\n",
       "      <th>Ejection fraction (%)</th>\n",
       "      <th>Number ISV (Count)</th>\n",
       "      <th>ISV area (µm^2)</th>\n",
       "    </tr>\n",
       "    <tr>\n",
       "      <th>Drug</th>\n",
       "      <th></th>\n",
       "      <th></th>\n",
       "      <th></th>\n",
       "      <th></th>\n",
       "      <th></th>\n",
       "      <th></th>\n",
       "    </tr>\n",
       "  </thead>\n",
       "  <tbody>\n",
       "    <tr>\n",
       "      <th>Molnupiravir</th>\n",
       "      <td>0.5</td>\n",
       "      <td>-8.694423e-03</td>\n",
       "      <td>-0.003729</td>\n",
       "      <td>-0.052395</td>\n",
       "      <td>0.0</td>\n",
       "      <td>-0.046389</td>\n",
       "    </tr>\n",
       "    <tr>\n",
       "      <th>Molnupiravir</th>\n",
       "      <td>1.0</td>\n",
       "      <td>2.632130e-07</td>\n",
       "      <td>-0.053949</td>\n",
       "      <td>-0.036997</td>\n",
       "      <td>0.0</td>\n",
       "      <td>0.001165</td>\n",
       "    </tr>\n",
       "    <tr>\n",
       "      <th>Molnupiravir</th>\n",
       "      <td>10.0</td>\n",
       "      <td>-4.971309e-03</td>\n",
       "      <td>-0.067458</td>\n",
       "      <td>-0.057168</td>\n",
       "      <td>0.0</td>\n",
       "      <td>-0.007875</td>\n",
       "    </tr>\n",
       "    <tr>\n",
       "      <th>Molnupiravir</th>\n",
       "      <td>25.0</td>\n",
       "      <td>-1.902132e-03</td>\n",
       "      <td>-0.068269</td>\n",
       "      <td>-0.013781</td>\n",
       "      <td>0.0</td>\n",
       "      <td>-0.026592</td>\n",
       "    </tr>\n",
       "  </tbody>\n",
       "</table>\n",
       "</div>"
      ],
      "text/plain": [
       "              Concentration (µM)  Body length (µm)  Heart Rate (BPM)  \\\n",
       "Drug                                                                   \n",
       "Molnupiravir                 0.5     -8.694423e-03         -0.003729   \n",
       "Molnupiravir                 1.0      2.632130e-07         -0.053949   \n",
       "Molnupiravir                10.0     -4.971309e-03         -0.067458   \n",
       "Molnupiravir                25.0     -1.902132e-03         -0.068269   \n",
       "\n",
       "              Ejection fraction (%)  Number ISV (Count)  ISV area (µm^2)  \n",
       "Drug                                                                      \n",
       "Molnupiravir              -0.052395                 0.0        -0.046389  \n",
       "Molnupiravir              -0.036997                 0.0         0.001165  \n",
       "Molnupiravir              -0.057168                 0.0        -0.007875  \n",
       "Molnupiravir              -0.013781                 0.0        -0.026592  "
      ]
     },
     "execution_count": 108,
     "metadata": {},
     "output_type": "execute_result"
    }
   ],
   "source": [
    "df_morph_heat.set_index(\"Drug\").loc[\"Molnupiravir\"]"
   ]
  },
  {
   "cell_type": "code",
   "execution_count": 114,
   "id": "810e9288-69e8-4eba-aba9-2b2368c4c7f1",
   "metadata": {
    "tags": []
   },
   "outputs": [
    {
     "data": {
      "text/html": [
       "<div>\n",
       "<style scoped>\n",
       "    .dataframe tbody tr th:only-of-type {\n",
       "        vertical-align: middle;\n",
       "    }\n",
       "\n",
       "    .dataframe tbody tr th {\n",
       "        vertical-align: top;\n",
       "    }\n",
       "\n",
       "    .dataframe thead th {\n",
       "        text-align: right;\n",
       "    }\n",
       "</style>\n",
       "<table border=\"1\" class=\"dataframe\">\n",
       "  <thead>\n",
       "    <tr style=\"text-align: right;\">\n",
       "      <th></th>\n",
       "      <th></th>\n",
       "      <th>Body length (µm)</th>\n",
       "      <th>Heart Rate (BPM)</th>\n",
       "      <th>Ejection fraction (%)</th>\n",
       "      <th>Number ISV (Count)</th>\n",
       "      <th>ISV area (µm^2)</th>\n",
       "      <th>Moving [s]|Accomodation</th>\n",
       "      <th>Velocity [mm/s]|Light</th>\n",
       "      <th>Velocity [mm/s]|Dark</th>\n",
       "      <th>Velocity|Ratio Light/Dark</th>\n",
       "    </tr>\n",
       "    <tr>\n",
       "      <th>Drug</th>\n",
       "      <th>Concentration (µM)</th>\n",
       "      <th></th>\n",
       "      <th></th>\n",
       "      <th></th>\n",
       "      <th></th>\n",
       "      <th></th>\n",
       "      <th></th>\n",
       "      <th></th>\n",
       "      <th></th>\n",
       "      <th></th>\n",
       "    </tr>\n",
       "  </thead>\n",
       "  <tbody>\n",
       "    <tr>\n",
       "      <th>Papaverine_1C02</th>\n",
       "      <th>1.0000</th>\n",
       "      <td>0.000063</td>\n",
       "      <td>-0.003087</td>\n",
       "      <td>0.228940</td>\n",
       "      <td>0.000000</td>\n",
       "      <td>-0.001520</td>\n",
       "      <td>0.000000</td>\n",
       "      <td>-0.044240</td>\n",
       "      <td>-0.001348</td>\n",
       "      <td>0.006725</td>\n",
       "    </tr>\n",
       "    <tr>\n",
       "      <th>GSK-369796_1C03</th>\n",
       "      <th>1.0000</th>\n",
       "      <td>0.000002</td>\n",
       "      <td>-0.098868</td>\n",
       "      <td>0.145239</td>\n",
       "      <td>-0.049590</td>\n",
       "      <td>0.000020</td>\n",
       "      <td>0.000304</td>\n",
       "      <td>-0.096082</td>\n",
       "      <td>-0.014154</td>\n",
       "      <td>0.021552</td>\n",
       "    </tr>\n",
       "    <tr>\n",
       "      <th>Daclatasvir_1C04</th>\n",
       "      <th>1.0000</th>\n",
       "      <td>-0.000015</td>\n",
       "      <td>-0.191970</td>\n",
       "      <td>-0.000085</td>\n",
       "      <td>0.000000</td>\n",
       "      <td>-0.005687</td>\n",
       "      <td>0.001590</td>\n",
       "      <td>-0.000067</td>\n",
       "      <td>0.005795</td>\n",
       "      <td>0.066889</td>\n",
       "    </tr>\n",
       "    <tr>\n",
       "      <th>Lonafarnib_1C05</th>\n",
       "      <th>1.0000</th>\n",
       "      <td>0.000033</td>\n",
       "      <td>-0.236291</td>\n",
       "      <td>0.031379</td>\n",
       "      <td>0.000000</td>\n",
       "      <td>-0.000007</td>\n",
       "      <td>0.000000</td>\n",
       "      <td>-0.047932</td>\n",
       "      <td>-0.012861</td>\n",
       "      <td>0.000177</td>\n",
       "    </tr>\n",
       "    <tr>\n",
       "      <th>Itraconazole_1C06</th>\n",
       "      <th>1.0000</th>\n",
       "      <td>-0.003922</td>\n",
       "      <td>-0.458396</td>\n",
       "      <td>0.000000</td>\n",
       "      <td>0.000000</td>\n",
       "      <td>-0.004725</td>\n",
       "      <td>0.000257</td>\n",
       "      <td>-0.596331</td>\n",
       "      <td>-0.056240</td>\n",
       "      <td>0.039077</td>\n",
       "    </tr>\n",
       "    <tr>\n",
       "      <th>...</th>\n",
       "      <th>...</th>\n",
       "      <td>...</td>\n",
       "      <td>...</td>\n",
       "      <td>...</td>\n",
       "      <td>...</td>\n",
       "      <td>...</td>\n",
       "      <td>...</td>\n",
       "      <td>...</td>\n",
       "      <td>...</td>\n",
       "      <td>...</td>\n",
       "    </tr>\n",
       "    <tr>\n",
       "      <th>RemdesivirCmax_1A06</th>\n",
       "      <th>0.9050</th>\n",
       "      <td>-0.000593</td>\n",
       "      <td>-0.006366</td>\n",
       "      <td>-0.001036</td>\n",
       "      <td>0.000000</td>\n",
       "      <td>0.000116</td>\n",
       "      <td>-0.048587</td>\n",
       "      <td>0.049571</td>\n",
       "      <td>-0.016374</td>\n",
       "      <td>-0.022789</td>\n",
       "    </tr>\n",
       "    <tr>\n",
       "      <th>RitonavirCmax_1A11</th>\n",
       "      <th>15.2500</th>\n",
       "      <td>0.000486</td>\n",
       "      <td>0.000023</td>\n",
       "      <td>0.111981</td>\n",
       "      <td>0.000000</td>\n",
       "      <td>-0.000159</td>\n",
       "      <td>-0.010039</td>\n",
       "      <td>-0.000722</td>\n",
       "      <td>-0.001724</td>\n",
       "      <td>0.000546</td>\n",
       "    </tr>\n",
       "    <tr>\n",
       "      <th>MolnupiravirCmax</th>\n",
       "      <th>0.1500</th>\n",
       "      <td>-0.038235</td>\n",
       "      <td>0.000077</td>\n",
       "      <td>-0.000054</td>\n",
       "      <td>-0.007011</td>\n",
       "      <td>-0.056939</td>\n",
       "      <td>0.004985</td>\n",
       "      <td>0.001225</td>\n",
       "      <td>-0.001041</td>\n",
       "      <td>-0.005898</td>\n",
       "    </tr>\n",
       "    <tr>\n",
       "      <th>BaricitnibCmax_2C09</th>\n",
       "      <th>0.1438</th>\n",
       "      <td>-0.000039</td>\n",
       "      <td>0.000594</td>\n",
       "      <td>-0.085739</td>\n",
       "      <td>0.000000</td>\n",
       "      <td>0.000020</td>\n",
       "      <td>0.048328</td>\n",
       "      <td>0.179419</td>\n",
       "      <td>0.001766</td>\n",
       "      <td>-0.002024</td>\n",
       "    </tr>\n",
       "    <tr>\n",
       "      <th>Ivermectin_1F05</th>\n",
       "      <th>0.5000</th>\n",
       "      <td>NaN</td>\n",
       "      <td>NaN</td>\n",
       "      <td>NaN</td>\n",
       "      <td>NaN</td>\n",
       "      <td>NaN</td>\n",
       "      <td>-0.155294</td>\n",
       "      <td>4.709704</td>\n",
       "      <td>-12.861123</td>\n",
       "      <td>-17.350954</td>\n",
       "    </tr>\n",
       "  </tbody>\n",
       "</table>\n",
       "<p>181 rows × 9 columns</p>\n",
       "</div>"
      ],
      "text/plain": [
       "                                        Body length (µm)  Heart Rate (BPM)  \\\n",
       "Drug                Concentration (µM)                                       \n",
       "Papaverine_1C02     1.0000                      0.000063         -0.003087   \n",
       "GSK-369796_1C03     1.0000                      0.000002         -0.098868   \n",
       "Daclatasvir_1C04    1.0000                     -0.000015         -0.191970   \n",
       "Lonafarnib_1C05     1.0000                      0.000033         -0.236291   \n",
       "Itraconazole_1C06   1.0000                     -0.003922         -0.458396   \n",
       "...                                                  ...               ...   \n",
       "RemdesivirCmax_1A06 0.9050                     -0.000593         -0.006366   \n",
       "RitonavirCmax_1A11  15.2500                     0.000486          0.000023   \n",
       "MolnupiravirCmax    0.1500                     -0.038235          0.000077   \n",
       "BaricitnibCmax_2C09 0.1438                     -0.000039          0.000594   \n",
       "Ivermectin_1F05     0.5000                           NaN               NaN   \n",
       "\n",
       "                                        Ejection fraction (%)  \\\n",
       "Drug                Concentration (µM)                          \n",
       "Papaverine_1C02     1.0000                           0.228940   \n",
       "GSK-369796_1C03     1.0000                           0.145239   \n",
       "Daclatasvir_1C04    1.0000                          -0.000085   \n",
       "Lonafarnib_1C05     1.0000                           0.031379   \n",
       "Itraconazole_1C06   1.0000                           0.000000   \n",
       "...                                                       ...   \n",
       "RemdesivirCmax_1A06 0.9050                          -0.001036   \n",
       "RitonavirCmax_1A11  15.2500                          0.111981   \n",
       "MolnupiravirCmax    0.1500                          -0.000054   \n",
       "BaricitnibCmax_2C09 0.1438                          -0.085739   \n",
       "Ivermectin_1F05     0.5000                                NaN   \n",
       "\n",
       "                                        Number ISV (Count)  ISV area (µm^2)  \\\n",
       "Drug                Concentration (µM)                                        \n",
       "Papaverine_1C02     1.0000                        0.000000        -0.001520   \n",
       "GSK-369796_1C03     1.0000                       -0.049590         0.000020   \n",
       "Daclatasvir_1C04    1.0000                        0.000000        -0.005687   \n",
       "Lonafarnib_1C05     1.0000                        0.000000        -0.000007   \n",
       "Itraconazole_1C06   1.0000                        0.000000        -0.004725   \n",
       "...                                                    ...              ...   \n",
       "RemdesivirCmax_1A06 0.9050                        0.000000         0.000116   \n",
       "RitonavirCmax_1A11  15.2500                       0.000000        -0.000159   \n",
       "MolnupiravirCmax    0.1500                       -0.007011        -0.056939   \n",
       "BaricitnibCmax_2C09 0.1438                        0.000000         0.000020   \n",
       "Ivermectin_1F05     0.5000                             NaN              NaN   \n",
       "\n",
       "                                        Moving [s]|Accomodation  \\\n",
       "Drug                Concentration (µM)                            \n",
       "Papaverine_1C02     1.0000                             0.000000   \n",
       "GSK-369796_1C03     1.0000                             0.000304   \n",
       "Daclatasvir_1C04    1.0000                             0.001590   \n",
       "Lonafarnib_1C05     1.0000                             0.000000   \n",
       "Itraconazole_1C06   1.0000                             0.000257   \n",
       "...                                                         ...   \n",
       "RemdesivirCmax_1A06 0.9050                            -0.048587   \n",
       "RitonavirCmax_1A11  15.2500                           -0.010039   \n",
       "MolnupiravirCmax    0.1500                             0.004985   \n",
       "BaricitnibCmax_2C09 0.1438                             0.048328   \n",
       "Ivermectin_1F05     0.5000                            -0.155294   \n",
       "\n",
       "                                        Velocity [mm/s]|Light  \\\n",
       "Drug                Concentration (µM)                          \n",
       "Papaverine_1C02     1.0000                          -0.044240   \n",
       "GSK-369796_1C03     1.0000                          -0.096082   \n",
       "Daclatasvir_1C04    1.0000                          -0.000067   \n",
       "Lonafarnib_1C05     1.0000                          -0.047932   \n",
       "Itraconazole_1C06   1.0000                          -0.596331   \n",
       "...                                                       ...   \n",
       "RemdesivirCmax_1A06 0.9050                           0.049571   \n",
       "RitonavirCmax_1A11  15.2500                         -0.000722   \n",
       "MolnupiravirCmax    0.1500                           0.001225   \n",
       "BaricitnibCmax_2C09 0.1438                           0.179419   \n",
       "Ivermectin_1F05     0.5000                           4.709704   \n",
       "\n",
       "                                        Velocity [mm/s]|Dark  \\\n",
       "Drug                Concentration (µM)                         \n",
       "Papaverine_1C02     1.0000                         -0.001348   \n",
       "GSK-369796_1C03     1.0000                         -0.014154   \n",
       "Daclatasvir_1C04    1.0000                          0.005795   \n",
       "Lonafarnib_1C05     1.0000                         -0.012861   \n",
       "Itraconazole_1C06   1.0000                         -0.056240   \n",
       "...                                                      ...   \n",
       "RemdesivirCmax_1A06 0.9050                         -0.016374   \n",
       "RitonavirCmax_1A11  15.2500                        -0.001724   \n",
       "MolnupiravirCmax    0.1500                         -0.001041   \n",
       "BaricitnibCmax_2C09 0.1438                          0.001766   \n",
       "Ivermectin_1F05     0.5000                        -12.861123   \n",
       "\n",
       "                                        Velocity|Ratio Light/Dark  \n",
       "Drug                Concentration (µM)                             \n",
       "Papaverine_1C02     1.0000                               0.006725  \n",
       "GSK-369796_1C03     1.0000                               0.021552  \n",
       "Daclatasvir_1C04    1.0000                               0.066889  \n",
       "Lonafarnib_1C05     1.0000                               0.000177  \n",
       "Itraconazole_1C06   1.0000                               0.039077  \n",
       "...                                                           ...  \n",
       "RemdesivirCmax_1A06 0.9050                              -0.022789  \n",
       "RitonavirCmax_1A11  15.2500                              0.000546  \n",
       "MolnupiravirCmax    0.1500                              -0.005898  \n",
       "BaricitnibCmax_2C09 0.1438                              -0.002024  \n",
       "Ivermectin_1F05     0.5000                             -17.350954  \n",
       "\n",
       "[181 rows x 9 columns]"
      ]
     },
     "execution_count": 114,
     "metadata": {},
     "output_type": "execute_result"
    }
   ],
   "source": [
    "pd.read_excel(\"Data/2023-02-19_MorphBehav_Merged_Effectscore.xlsx\").set_index([\"Drug\",'Concentration (µM)'])"
   ]
  },
  {
   "cell_type": "code",
   "execution_count": 128,
   "id": "dad50152-eb1a-4cf4-adce-f245b350c433",
   "metadata": {
    "tags": []
   },
   "outputs": [
    {
     "data": {
      "application/vnd.plotly.v1+json": {
       "config": {
        "plotlyServerURL": "https://plot.ly"
       },
       "data": [
        {
         "colorscale": [
          [
           0,
           "rgb(142,1,82)"
          ],
          [
           0.1,
           "rgb(197,27,125)"
          ],
          [
           0.2,
           "rgb(222,119,174)"
          ],
          [
           0.3,
           "rgb(241,182,218)"
          ],
          [
           0.4,
           "rgb(253,224,239)"
          ],
          [
           0.5,
           "rgb(247,247,247)"
          ],
          [
           0.6,
           "rgb(230,245,208)"
          ],
          [
           0.7,
           "rgb(184,225,134)"
          ],
          [
           0.8,
           "rgb(127,188,65)"
          ],
          [
           0.9,
           "rgb(77,146,33)"
          ],
          [
           1,
           "rgb(39,100,25)"
          ]
         ],
         "type": "heatmap",
         "x": [
          "(+)-Mefloquine_2C11__1.0",
          "Ivermectin_1F05__1.0",
          "Ivermectin_1F05__0.5",
          "Molnupiravir__0.5",
          "Molnupiravir__1.0",
          "Molnupiravir__10.0",
          "Molnupiravir__25.0"
         ],
         "y": [
          "Ejection fraction (%)",
          "Number ISV (Count)",
          "ISV area (µm^2)",
          "Moving [s]|Accomodation",
          "Velocity [mm/s]|Light",
          "Velocity [mm/s]|Dark",
          "Velocity|Ratio Light/Dark"
         ],
         "z": [
          [
           0.03012833825183393,
           0.0006209412798115365,
           -0.08573905023855007,
           -0.05239544844637553,
           -0.03699746380495486,
           -0.05716840037396205,
           -0.01378128506525471
          ],
          [
           0,
           -0.02880035914937033,
           0,
           0,
           0,
           0,
           0
          ],
          [
           -0.008350965417464887,
           -0.5964116678091717,
           1.962111869266714e-05,
           -0.04638865150558318,
           0.001164937453502673,
           -0.007875326440886518,
           -0.02659229406263748
          ],
          [
           0.005224467774240179,
           -0.00482655226261886,
           -0.1552940551921428,
           0.0004638771837789224,
           0.001020598609502299,
           0.01974470057961195,
           0.000616692251374749
          ],
          [
           -0.06625245126855808,
           -0.06559327563250072,
           4.709704471758418,
           0.001082844620150947,
           9.466971884312165e-05,
           0,
           0.0003366901545930868
          ],
          [
           -0.000415646462961696,
           -0.0002819012588959009,
           -12.8611231718899,
           8.701878846315479e-05,
           -0.0002924957887833422,
           0.0001555216331034434,
           0.006274413215515396
          ],
          [
           0.003726727053000678,
           0.00929819394775332,
           -17.35095378215043,
           0.001429041308551273,
           1.270986538909796e-05,
           0.000908979068384144,
           3.470866815643398e-05
          ]
         ],
         "zmid": 0
        }
       ],
       "layout": {
        "height": 500,
        "template": {
         "data": {
          "candlestick": [
           {
            "decreasing": {
             "line": {
              "color": "#000033"
             }
            },
            "increasing": {
             "line": {
              "color": "#000032"
             }
            },
            "type": "candlestick"
           }
          ],
          "contour": [
           {
            "colorscale": [
             [
              0,
              "#000011"
             ],
             [
              0.1111111111111111,
              "#000012"
             ],
             [
              0.2222222222222222,
              "#000013"
             ],
             [
              0.3333333333333333,
              "#000014"
             ],
             [
              0.4444444444444444,
              "#000015"
             ],
             [
              0.5555555555555556,
              "#000016"
             ],
             [
              0.6666666666666666,
              "#000017"
             ],
             [
              0.7777777777777778,
              "#000018"
             ],
             [
              0.8888888888888888,
              "#000019"
             ],
             [
              1,
              "#000020"
             ]
            ],
            "type": "contour"
           }
          ],
          "contourcarpet": [
           {
            "colorscale": [
             [
              0,
              "#000011"
             ],
             [
              0.1111111111111111,
              "#000012"
             ],
             [
              0.2222222222222222,
              "#000013"
             ],
             [
              0.3333333333333333,
              "#000014"
             ],
             [
              0.4444444444444444,
              "#000015"
             ],
             [
              0.5555555555555556,
              "#000016"
             ],
             [
              0.6666666666666666,
              "#000017"
             ],
             [
              0.7777777777777778,
              "#000018"
             ],
             [
              0.8888888888888888,
              "#000019"
             ],
             [
              1,
              "#000020"
             ]
            ],
            "type": "contourcarpet"
           }
          ],
          "heatmap": [
           {
            "colorscale": [
             [
              0,
              "#000011"
             ],
             [
              0.1111111111111111,
              "#000012"
             ],
             [
              0.2222222222222222,
              "#000013"
             ],
             [
              0.3333333333333333,
              "#000014"
             ],
             [
              0.4444444444444444,
              "#000015"
             ],
             [
              0.5555555555555556,
              "#000016"
             ],
             [
              0.6666666666666666,
              "#000017"
             ],
             [
              0.7777777777777778,
              "#000018"
             ],
             [
              0.8888888888888888,
              "#000019"
             ],
             [
              1,
              "#000020"
             ]
            ],
            "type": "heatmap"
           }
          ],
          "histogram2d": [
           {
            "colorscale": [
             [
              0,
              "#000011"
             ],
             [
              0.1111111111111111,
              "#000012"
             ],
             [
              0.2222222222222222,
              "#000013"
             ],
             [
              0.3333333333333333,
              "#000014"
             ],
             [
              0.4444444444444444,
              "#000015"
             ],
             [
              0.5555555555555556,
              "#000016"
             ],
             [
              0.6666666666666666,
              "#000017"
             ],
             [
              0.7777777777777778,
              "#000018"
             ],
             [
              0.8888888888888888,
              "#000019"
             ],
             [
              1,
              "#000020"
             ]
            ],
            "type": "histogram2d"
           }
          ],
          "icicle": [
           {
            "textfont": {
             "color": "white"
            },
            "type": "icicle"
           }
          ],
          "sankey": [
           {
            "textfont": {
             "color": "#000036"
            },
            "type": "sankey"
           }
          ],
          "scatter": [
           {
            "marker": {
             "line": {
              "width": 0
             }
            },
            "type": "scatter"
           }
          ],
          "table": [
           {
            "cells": {
             "fill": {
              "color": "#000038"
             },
             "font": {
              "color": "#000037"
             },
             "line": {
              "color": "#000039"
             }
            },
            "header": {
             "fill": {
              "color": "#000040"
             },
             "font": {
              "color": "#000036"
             },
             "line": {
              "color": "#000039"
             }
            },
            "type": "table"
           }
          ],
          "waterfall": [
           {
            "connector": {
             "line": {
              "color": "#000036",
              "width": 2
             }
            },
            "decreasing": {
             "marker": {
              "color": "#000033"
             }
            },
            "increasing": {
             "marker": {
              "color": "#000032"
             }
            },
            "totals": {
             "marker": {
              "color": "#000034"
             }
            },
            "type": "waterfall"
           }
          ]
         },
         "layout": {
          "coloraxis": {
           "colorscale": [
            [
             0,
             "#000011"
            ],
            [
             0.1111111111111111,
             "#000012"
            ],
            [
             0.2222222222222222,
             "#000013"
            ],
            [
             0.3333333333333333,
             "#000014"
            ],
            [
             0.4444444444444444,
             "#000015"
            ],
            [
             0.5555555555555556,
             "#000016"
            ],
            [
             0.6666666666666666,
             "#000017"
            ],
            [
             0.7777777777777778,
             "#000018"
            ],
            [
             0.8888888888888888,
             "#000019"
            ],
            [
             1,
             "#000020"
            ]
           ]
          },
          "colorscale": {
           "diverging": [
            [
             0,
             "#000021"
            ],
            [
             0.1,
             "#000022"
            ],
            [
             0.2,
             "#000023"
            ],
            [
             0.3,
             "#000024"
            ],
            [
             0.4,
             "#000025"
            ],
            [
             0.5,
             "#000026"
            ],
            [
             0.6,
             "#000027"
            ],
            [
             0.7,
             "#000028"
            ],
            [
             0.8,
             "#000029"
            ],
            [
             0.9,
             "#000030"
            ],
            [
             1,
             "#000031"
            ]
           ],
           "sequential": [
            [
             0,
             "#000011"
            ],
            [
             0.1111111111111111,
             "#000012"
            ],
            [
             0.2222222222222222,
             "#000013"
            ],
            [
             0.3333333333333333,
             "#000014"
            ],
            [
             0.4444444444444444,
             "#000015"
            ],
            [
             0.5555555555555556,
             "#000016"
            ],
            [
             0.6666666666666666,
             "#000017"
            ],
            [
             0.7777777777777778,
             "#000018"
            ],
            [
             0.8888888888888888,
             "#000019"
            ],
            [
             1,
             "#000020"
            ]
           ],
           "sequentialminus": [
            [
             0,
             "#000011"
            ],
            [
             0.1111111111111111,
             "#000012"
            ],
            [
             0.2222222222222222,
             "#000013"
            ],
            [
             0.3333333333333333,
             "#000014"
            ],
            [
             0.4444444444444444,
             "#000015"
            ],
            [
             0.5555555555555556,
             "#000016"
            ],
            [
             0.6666666666666666,
             "#000017"
            ],
            [
             0.7777777777777778,
             "#000018"
            ],
            [
             0.8888888888888888,
             "#000019"
            ],
            [
             1,
             "#000020"
            ]
           ]
          },
          "colorway": [
           "#000001",
           "#000002",
           "#000003",
           "#000004",
           "#000005",
           "#000006",
           "#000007",
           "#000008",
           "#000009",
           "#000010"
          ]
         }
        },
        "width": 1000,
        "xaxis": {
         "autorange": true,
         "range": [
          -0.5,
          6.5
         ],
         "tickangle": -90,
         "type": "category"
        },
        "yaxis": {
         "autorange": true,
         "range": [
          -0.5,
          6.5
         ],
         "type": "category"
        }
       }
      },
      "image/png": "[encoded data removed]",
      "text/html": [
       "<div>                            <div id=\"fa917137-9ace-482e-84db-787bd52812c3\" class=\"plotly-graph-div\" style=\"height:500px; width:1000px;\"></div>            <script type=\"text/javascript\">                require([\"plotly\"], function(Plotly) {                    window.PLOTLYENV=window.PLOTLYENV || {};                                    if (document.getElementById(\"fa917137-9ace-482e-84db-787bd52812c3\")) {                    Plotly.newPlot(                        \"fa917137-9ace-482e-84db-787bd52812c3\",                        [{\"colorscale\":[[0.0,\"rgb(142,1,82)\"],[0.1,\"rgb(197,27,125)\"],[0.2,\"rgb(222,119,174)\"],[0.3,\"rgb(241,182,218)\"],[0.4,\"rgb(253,224,239)\"],[0.5,\"rgb(247,247,247)\"],[0.6,\"rgb(230,245,208)\"],[0.7,\"rgb(184,225,134)\"],[0.8,\"rgb(127,188,65)\"],[0.9,\"rgb(77,146,33)\"],[1.0,\"rgb(39,100,25)\"]],\"x\":[\"(+)-Mefloquine_2C11__1.0\",\"Ivermectin_1F05__1.0\",\"Ivermectin_1F05__0.5\",\"Molnupiravir__0.5\",\"Molnupiravir__1.0\",\"Molnupiravir__10.0\",\"Molnupiravir__25.0\"],\"y\":[\"Ejection fraction (%)\",\"Number ISV (Count)\",\"ISV area (\\u00b5m^2)\",\"Moving [s]|Accomodation\",\"Velocity [mm/s]|Light\",\"Velocity [mm/s]|Dark\",\"Velocity|Ratio Light/Dark\"],\"z\":[[0.03012833825183393,0.0006209412798115365,-0.08573905023855007,-0.05239544844637553,-0.03699746380495486,-0.05716840037396205,-0.01378128506525471],[0.0,-0.02880035914937033,0.0,0.0,0.0,0.0,0.0],[-0.008350965417464887,-0.5964116678091717,1.962111869266714e-05,-0.04638865150558318,0.001164937453502673,-0.007875326440886518,-0.02659229406263748],[0.005224467774240179,-0.00482655226261886,-0.1552940551921428,0.0004638771837789224,0.001020598609502299,0.01974470057961195,0.000616692251374749],[-0.06625245126855808,-0.06559327563250072,4.709704471758418,0.001082844620150947,9.466971884312165e-05,0.0,0.0003366901545930868],[-0.000415646462961696,-0.0002819012588959009,-12.8611231718899,8.701878846315479e-05,-0.0002924957887833422,0.0001555216331034434,0.006274413215515396],[0.003726727053000678,0.00929819394775332,-17.35095378215043,0.001429041308551273,1.270986538909796e-05,0.000908979068384144,3.470866815643398e-05]],\"zmid\":0,\"type\":\"heatmap\"}],                        {\"template\":{\"data\":{\"candlestick\":[{\"decreasing\":{\"line\":{\"color\":\"#000033\"}},\"increasing\":{\"line\":{\"color\":\"#000032\"}},\"type\":\"candlestick\"}],\"contourcarpet\":[{\"colorscale\":[[0.0,\"#000011\"],[0.1111111111111111,\"#000012\"],[0.2222222222222222,\"#000013\"],[0.3333333333333333,\"#000014\"],[0.4444444444444444,\"#000015\"],[0.5555555555555556,\"#000016\"],[0.6666666666666666,\"#000017\"],[0.7777777777777778,\"#000018\"],[0.8888888888888888,\"#000019\"],[1.0,\"#000020\"]],\"type\":\"contourcarpet\"}],\"contour\":[{\"colorscale\":[[0.0,\"#000011\"],[0.1111111111111111,\"#000012\"],[0.2222222222222222,\"#000013\"],[0.3333333333333333,\"#000014\"],[0.4444444444444444,\"#000015\"],[0.5555555555555556,\"#000016\"],[0.6666666666666666,\"#000017\"],[0.7777777777777778,\"#000018\"],[0.8888888888888888,\"#000019\"],[1.0,\"#000020\"]],\"type\":\"contour\"}],\"heatmap\":[{\"colorscale\":[[0.0,\"#000011\"],[0.1111111111111111,\"#000012\"],[0.2222222222222222,\"#000013\"],[0.3333333333333333,\"#000014\"],[0.4444444444444444,\"#000015\"],[0.5555555555555556,\"#000016\"],[0.6666666666666666,\"#000017\"],[0.7777777777777778,\"#000018\"],[0.8888888888888888,\"#000019\"],[1.0,\"#000020\"]],\"type\":\"heatmap\"}],\"histogram2d\":[{\"colorscale\":[[0.0,\"#000011\"],[0.1111111111111111,\"#000012\"],[0.2222222222222222,\"#000013\"],[0.3333333333333333,\"#000014\"],[0.4444444444444444,\"#000015\"],[0.5555555555555556,\"#000016\"],[0.6666666666666666,\"#000017\"],[0.7777777777777778,\"#000018\"],[0.8888888888888888,\"#000019\"],[1.0,\"#000020\"]],\"type\":\"histogram2d\"}],\"icicle\":[{\"textfont\":{\"color\":\"white\"},\"type\":\"icicle\"}],\"sankey\":[{\"textfont\":{\"color\":\"#000036\"},\"type\":\"sankey\"}],\"scatter\":[{\"marker\":{\"line\":{\"width\":0}},\"type\":\"scatter\"}],\"table\":[{\"cells\":{\"fill\":{\"color\":\"#000038\"},\"font\":{\"color\":\"#000037\"},\"line\":{\"color\":\"#000039\"}},\"header\":{\"fill\":{\"color\":\"#000040\"},\"font\":{\"color\":\"#000036\"},\"line\":{\"color\":\"#000039\"}},\"type\":\"table\"}],\"waterfall\":[{\"connector\":{\"line\":{\"color\":\"#000036\",\"width\":2}},\"decreasing\":{\"marker\":{\"color\":\"#000033\"}},\"increasing\":{\"marker\":{\"color\":\"#000032\"}},\"totals\":{\"marker\":{\"color\":\"#000034\"}},\"type\":\"waterfall\"}]},\"layout\":{\"coloraxis\":{\"colorscale\":[[0.0,\"#000011\"],[0.1111111111111111,\"#000012\"],[0.2222222222222222,\"#000013\"],[0.3333333333333333,\"#000014\"],[0.4444444444444444,\"#000015\"],[0.5555555555555556,\"#000016\"],[0.6666666666666666,\"#000017\"],[0.7777777777777778,\"#000018\"],[0.8888888888888888,\"#000019\"],[1.0,\"#000020\"]]},\"colorscale\":{\"diverging\":[[0.0,\"#000021\"],[0.1,\"#000022\"],[0.2,\"#000023\"],[0.3,\"#000024\"],[0.4,\"#000025\"],[0.5,\"#000026\"],[0.6,\"#000027\"],[0.7,\"#000028\"],[0.8,\"#000029\"],[0.9,\"#000030\"],[1.0,\"#000031\"]],\"sequential\":[[0.0,\"#000011\"],[0.1111111111111111,\"#000012\"],[0.2222222222222222,\"#000013\"],[0.3333333333333333,\"#000014\"],[0.4444444444444444,\"#000015\"],[0.5555555555555556,\"#000016\"],[0.6666666666666666,\"#000017\"],[0.7777777777777778,\"#000018\"],[0.8888888888888888,\"#000019\"],[1.0,\"#000020\"]],\"sequentialminus\":[[0.0,\"#000011\"],[0.1111111111111111,\"#000012\"],[0.2222222222222222,\"#000013\"],[0.3333333333333333,\"#000014\"],[0.4444444444444444,\"#000015\"],[0.5555555555555556,\"#000016\"],[0.6666666666666666,\"#000017\"],[0.7777777777777778,\"#000018\"],[0.8888888888888888,\"#000019\"],[1.0,\"#000020\"]]},\"colorway\":[\"#000001\",\"#000002\",\"#000003\",\"#000004\",\"#000005\",\"#000006\",\"#000007\",\"#000008\",\"#000009\",\"#000010\"]}},\"xaxis\":{\"tickangle\":-90},\"width\":1000,\"height\":500},                        {\"responsive\": true}                    ).then(function(){\n",
       "                            \n",
       "var gd = document.getElementById('fa917137-9ace-482e-84db-787bd52812c3');\n",
       "var x = new MutationObserver(function (mutations, observer) {{\n",
       "        var display = window.getComputedStyle(gd).display;\n",
       "        if (!display || display === 'none') {{\n",
       "            console.log([gd, 'removed!']);\n",
       "            Plotly.purge(gd);\n",
       "            observer.disconnect();\n",
       "        }}\n",
       "}});\n",
       "\n",
       "// Listen for the removal of the full notebook cells\n",
       "var notebookContainer = gd.closest('#notebook-container');\n",
       "if (notebookContainer) {{\n",
       "    x.observe(notebookContainer, {childList: true});\n",
       "}}\n",
       "\n",
       "// Listen for the clearing of the current output cell\n",
       "var outputEl = gd.closest('.output');\n",
       "if (outputEl) {{\n",
       "    x.observe(outputEl, {childList: true});\n",
       "}}\n",
       "\n",
       "                        })                };                });            </script>        </div>"
      ]
     },
     "metadata": {},
     "output_type": "display_data"
    }
   ],
   "source": [
    "df_ = pd.read_excel(\"Data/2023-02-19_MorphBehav_Merged_Effectscore.xlsx\").fillna(method='ffill', axis=0)\n",
    "df_[\"Drug__Concentration (µM)\"] = df_[\"Drug\"] +\"__\"+ df_[\"Concentration (µM)\"].astype(str)\n",
    "df_ = df_.set_index([\"Drug\",\"Concentration (µM)\"])\n",
    "\n",
    "druglist=[\"(+)-Mefloquine_2C11\",\"Ivermectin_1F05\",\"Molnupiravir\"]\n",
    "\n",
    "\n",
    "df_ = df_.loc[druglist]\n",
    "\n",
    "\n",
    "\n",
    "fig = go.Figure(data=go.Heatmap(\n",
    "                z= df_[df_.columns[2:-1]].T,\n",
    "                y= df_.columns[2:-1],\n",
    "                x= df_[\"Drug__Concentration (µM)\"],\n",
    "\n",
    "                zmid = 0,\n",
    "                colorscale = 'PiYG'\n",
    "))\n",
    "\n",
    "fig.update_xaxes( tickangle = -90)\n",
    "fig.update_layout(width=1000,height=500)"
   ]
  },
  {
   "cell_type": "code",
   "execution_count": 122,
   "id": "874c0768-b94d-4ccd-b507-d7bca04b218f",
   "metadata": {
    "tags": []
   },
   "outputs": [
    {
     "data": {
      "text/html": [
       "<div>\n",
       "<style scoped>\n",
       "    .dataframe tbody tr th:only-of-type {\n",
       "        vertical-align: middle;\n",
       "    }\n",
       "\n",
       "    .dataframe tbody tr th {\n",
       "        vertical-align: top;\n",
       "    }\n",
       "\n",
       "    .dataframe thead th {\n",
       "        text-align: right;\n",
       "    }\n",
       "</style>\n",
       "<table border=\"1\" class=\"dataframe\">\n",
       "  <thead>\n",
       "    <tr style=\"text-align: right;\">\n",
       "      <th></th>\n",
       "      <th></th>\n",
       "      <th>Body length (µm)</th>\n",
       "      <th>Heart Rate (BPM)</th>\n",
       "      <th>Ejection fraction (%)</th>\n",
       "      <th>Number ISV (Count)</th>\n",
       "      <th>ISV area (µm^2)</th>\n",
       "      <th>Moving [s]|Accomodation</th>\n",
       "      <th>Velocity [mm/s]|Light</th>\n",
       "      <th>Velocity [mm/s]|Dark</th>\n",
       "      <th>Velocity|Ratio Light/Dark</th>\n",
       "      <th>Drug__Concentration (µM)</th>\n",
       "    </tr>\n",
       "    <tr>\n",
       "      <th>Drug</th>\n",
       "      <th>Concentration (µM)</th>\n",
       "      <th></th>\n",
       "      <th></th>\n",
       "      <th></th>\n",
       "      <th></th>\n",
       "      <th></th>\n",
       "      <th></th>\n",
       "      <th></th>\n",
       "      <th></th>\n",
       "      <th></th>\n",
       "      <th></th>\n",
       "    </tr>\n",
       "  </thead>\n",
       "  <tbody>\n",
       "    <tr>\n",
       "      <th>(+)-Mefloquine_2C11</th>\n",
       "      <th>1.0</th>\n",
       "      <td>-0.004564</td>\n",
       "      <td>0.000149</td>\n",
       "      <td>0.030128</td>\n",
       "      <td>0.0000</td>\n",
       "      <td>-0.008351</td>\n",
       "      <td>0.005224</td>\n",
       "      <td>-0.066252</td>\n",
       "      <td>-0.000416</td>\n",
       "      <td>0.003727</td>\n",
       "      <td>NaN</td>\n",
       "    </tr>\n",
       "    <tr>\n",
       "      <th rowspan=\"2\" valign=\"top\">Ivermectin_1F05</th>\n",
       "      <th>1.0</th>\n",
       "      <td>-1.112075</td>\n",
       "      <td>-2.170903</td>\n",
       "      <td>0.000621</td>\n",
       "      <td>-0.0288</td>\n",
       "      <td>-0.596412</td>\n",
       "      <td>NaN</td>\n",
       "      <td>NaN</td>\n",
       "      <td>NaN</td>\n",
       "      <td>NaN</td>\n",
       "      <td>NaN</td>\n",
       "    </tr>\n",
       "    <tr>\n",
       "      <th>0.5</th>\n",
       "      <td>NaN</td>\n",
       "      <td>NaN</td>\n",
       "      <td>NaN</td>\n",
       "      <td>NaN</td>\n",
       "      <td>NaN</td>\n",
       "      <td>-0.155294</td>\n",
       "      <td>4.709704</td>\n",
       "      <td>-12.861123</td>\n",
       "      <td>-17.350954</td>\n",
       "      <td>NaN</td>\n",
       "    </tr>\n",
       "  </tbody>\n",
       "</table>\n",
       "</div>"
      ],
      "text/plain": [
       "                                        Body length (µm)  Heart Rate (BPM)  \\\n",
       "Drug                Concentration (µM)                                       \n",
       "(+)-Mefloquine_2C11 1.0                        -0.004564          0.000149   \n",
       "Ivermectin_1F05     1.0                        -1.112075         -2.170903   \n",
       "                    0.5                              NaN               NaN   \n",
       "\n",
       "                                        Ejection fraction (%)  \\\n",
       "Drug                Concentration (µM)                          \n",
       "(+)-Mefloquine_2C11 1.0                              0.030128   \n",
       "Ivermectin_1F05     1.0                              0.000621   \n",
       "                    0.5                                   NaN   \n",
       "\n",
       "                                        Number ISV (Count)  ISV area (µm^2)  \\\n",
       "Drug                Concentration (µM)                                        \n",
       "(+)-Mefloquine_2C11 1.0                             0.0000        -0.008351   \n",
       "Ivermectin_1F05     1.0                            -0.0288        -0.596412   \n",
       "                    0.5                                NaN              NaN   \n",
       "\n",
       "                                        Moving [s]|Accomodation  \\\n",
       "Drug                Concentration (µM)                            \n",
       "(+)-Mefloquine_2C11 1.0                                0.005224   \n",
       "Ivermectin_1F05     1.0                                     NaN   \n",
       "                    0.5                               -0.155294   \n",
       "\n",
       "                                        Velocity [mm/s]|Light  \\\n",
       "Drug                Concentration (µM)                          \n",
       "(+)-Mefloquine_2C11 1.0                             -0.066252   \n",
       "Ivermectin_1F05     1.0                                   NaN   \n",
       "                    0.5                              4.709704   \n",
       "\n",
       "                                        Velocity [mm/s]|Dark  \\\n",
       "Drug                Concentration (µM)                         \n",
       "(+)-Mefloquine_2C11 1.0                            -0.000416   \n",
       "Ivermectin_1F05     1.0                                  NaN   \n",
       "                    0.5                           -12.861123   \n",
       "\n",
       "                                        Velocity|Ratio Light/Dark  \\\n",
       "Drug                Concentration (µM)                              \n",
       "(+)-Mefloquine_2C11 1.0                                  0.003727   \n",
       "Ivermectin_1F05     1.0                                       NaN   \n",
       "                    0.5                                -17.350954   \n",
       "\n",
       "                                       Drug__Concentration (µM)  \n",
       "Drug                Concentration (µM)                           \n",
       "(+)-Mefloquine_2C11 1.0                                     NaN  \n",
       "Ivermectin_1F05     1.0                                     NaN  \n",
       "                    0.5                                     NaN  "
      ]
     },
     "execution_count": 122,
     "metadata": {},
     "output_type": "execute_result"
    }
   ],
   "source": [
    "df_[\"Drug__Concentration (µM)\"] = (df_.reset_index()[\"Drug\"] +\"__\"+ df_.reset_index()[\"Concentration (µM)\"].astype(str)).astype(str)\n",
    "df_"
   ]
  },
  {
   "cell_type": "code",
   "execution_count": 143,
   "id": "55e8bd42-37a4-4758-b744-1d3b7a9e37b8",
   "metadata": {
    "tags": []
   },
   "outputs": [],
   "source": [
    "def getSurvivalData():\n",
    "    source = \"./Data/CovidDrugScreen_Survival.xlsx\"\n",
    "    df = pd.read_excel(source)\n",
    "    df_acquifer = df[df[\"Type\"]==\"Acquifer\"] \n",
    "    df_daniovision = df[df[\"Type\"]==\"Daniovision\"]\n",
    "    return (df_acquifer,df_daniovision)\n",
    "    \n",
    "def survival_plot(inputdata,druglist):\n",
    "    inputdata = inputdata.set_index([\"Drug\"]) \n",
    "    druglist=[i for i in druglist if i in list(inputdata.index)]\n",
    "    \n",
    "    output=inputdata.loc[druglist].reset_index()\n",
    "    output[\"Code\"]=output[\"Concentration (µM)\"].astype(str) + \" µM_Replicate \" + output[\"Replicate\"].astype(str)\n",
    "    data= output.pivot(columns=[\"Drug\"],values=\"Survival Rate\", index =[\"Code\"]).reset_index().astype(str).set_index([\"Code\"])\n",
    "    x_= data.columns\n",
    "    y_= data.index\n",
    "    \n",
    "    return (data,x_,y_) "
   ]
  },
  {
   "cell_type": "code",
   "execution_count": 144,
   "id": "9377f5de-9500-4e37-b38d-c87a553177bb",
   "metadata": {
    "tags": []
   },
   "outputs": [],
   "source": [
    "data,x_,y_ = survival_plot(getSurvivalData()[0],[\"Ivermectin_1F05\",\"Niclosamide_1A02\"])"
   ]
  },
  {
   "cell_type": "code",
   "execution_count": 145,
   "id": "7921c848-e671-4e27-ad72-c71dde498ce4",
   "metadata": {
    "tags": []
   },
   "outputs": [
    {
     "data": {
      "application/vnd.plotly.v1+json": {
       "config": {
        "plotlyServerURL": "https://plot.ly"
       },
       "data": [
        {
         "coloraxis": "coloraxis",
         "hovertemplate": "Drug: %{x}<br>4 dpf with PTU: %{y}<br>Survival: %{z}<extra></extra>",
         "name": "0",
         "type": "heatmap",
         "x": [
          "Ivermectin_1F05",
          "Niclosamide_1A02",
          "Remdesivir_1A06"
         ],
         "xaxis": "x",
         "y": [
          "0.5 µM_Replicate 1",
          "0.5 µM_Replicate 2",
          "1.0 µM_Replicate 1",
          "1.0 µM_Replicate 2",
          "1.0 µM_Replicate 3",
          "1.0 µM_Replicate 4",
          "1.0 µM_Replicate 5"
         ],
         "yaxis": "y",
         "z": [
          [
           "nan",
           "100.0",
           "nan"
          ],
          [
           "nan",
           "100.0",
           "nan"
          ],
          [
           "100.0",
           "0.0",
           "100.0"
          ],
          [
           "100.0",
           "nan",
           "100.0"
          ],
          [
           "nan",
           "nan",
           "100.0"
          ],
          [
           "nan",
           "nan",
           "90.0"
          ],
          [
           "nan",
           "nan",
           "100.0"
          ]
         ]
        }
       ],
       "layout": {
        "autosize": true,
        "coloraxis": {
         "cmax": 100,
         "cmin": 0,
         "colorbar": {
          "title": {
           "text": "Survival"
          }
         },
         "colorscale": [
          [
           0,
           "rgb(158,1,66)"
          ],
          [
           0.1,
           "rgb(213,62,79)"
          ],
          [
           0.2,
           "rgb(244,109,67)"
          ],
          [
           0.3,
           "rgb(253,174,97)"
          ],
          [
           0.4,
           "rgb(254,224,139)"
          ],
          [
           0.5,
           "rgb(255,255,191)"
          ],
          [
           0.6,
           "rgb(230,245,152)"
          ],
          [
           0.7,
           "rgb(171,221,164)"
          ],
          [
           0.8,
           "rgb(102,194,165)"
          ],
          [
           0.9,
           "rgb(50,136,189)"
          ],
          [
           1,
           "rgb(94,79,162)"
          ]
         ]
        },
        "margin": {
         "t": 60
        },
        "template": {
         "data": {
          "candlestick": [
           {
            "decreasing": {
             "line": {
              "color": "#000033"
             }
            },
            "increasing": {
             "line": {
              "color": "#000032"
             }
            },
            "type": "candlestick"
           }
          ],
          "contour": [
           {
            "colorscale": [
             [
              0,
              "#000011"
             ],
             [
              0.1111111111111111,
              "#000012"
             ],
             [
              0.2222222222222222,
              "#000013"
             ],
             [
              0.3333333333333333,
              "#000014"
             ],
             [
              0.4444444444444444,
              "#000015"
             ],
             [
              0.5555555555555556,
              "#000016"
             ],
             [
              0.6666666666666666,
              "#000017"
             ],
             [
              0.7777777777777778,
              "#000018"
             ],
             [
              0.8888888888888888,
              "#000019"
             ],
             [
              1,
              "#000020"
             ]
            ],
            "type": "contour"
           }
          ],
          "contourcarpet": [
           {
            "colorscale": [
             [
              0,
              "#000011"
             ],
             [
              0.1111111111111111,
              "#000012"
             ],
             [
              0.2222222222222222,
              "#000013"
             ],
             [
              0.3333333333333333,
              "#000014"
             ],
             [
              0.4444444444444444,
              "#000015"
             ],
             [
              0.5555555555555556,
              "#000016"
             ],
             [
              0.6666666666666666,
              "#000017"
             ],
             [
              0.7777777777777778,
              "#000018"
             ],
             [
              0.8888888888888888,
              "#000019"
             ],
             [
              1,
              "#000020"
             ]
            ],
            "type": "contourcarpet"
           }
          ],
          "heatmap": [
           {
            "colorscale": [
             [
              0,
              "#000011"
             ],
             [
              0.1111111111111111,
              "#000012"
             ],
             [
              0.2222222222222222,
              "#000013"
             ],
             [
              0.3333333333333333,
              "#000014"
             ],
             [
              0.4444444444444444,
              "#000015"
             ],
             [
              0.5555555555555556,
              "#000016"
             ],
             [
              0.6666666666666666,
              "#000017"
             ],
             [
              0.7777777777777778,
              "#000018"
             ],
             [
              0.8888888888888888,
              "#000019"
             ],
             [
              1,
              "#000020"
             ]
            ],
            "type": "heatmap"
           }
          ],
          "histogram2d": [
           {
            "colorscale": [
             [
              0,
              "#000011"
             ],
             [
              0.1111111111111111,
              "#000012"
             ],
             [
              0.2222222222222222,
              "#000013"
             ],
             [
              0.3333333333333333,
              "#000014"
             ],
             [
              0.4444444444444444,
              "#000015"
             ],
             [
              0.5555555555555556,
              "#000016"
             ],
             [
              0.6666666666666666,
              "#000017"
             ],
             [
              0.7777777777777778,
              "#000018"
             ],
             [
              0.8888888888888888,
              "#000019"
             ],
             [
              1,
              "#000020"
             ]
            ],
            "type": "histogram2d"
           }
          ],
          "icicle": [
           {
            "textfont": {
             "color": "white"
            },
            "type": "icicle"
           }
          ],
          "sankey": [
           {
            "textfont": {
             "color": "#000036"
            },
            "type": "sankey"
           }
          ],
          "scatter": [
           {
            "marker": {
             "line": {
              "width": 0
             }
            },
            "type": "scatter"
           }
          ],
          "table": [
           {
            "cells": {
             "fill": {
              "color": "#000038"
             },
             "font": {
              "color": "#000037"
             },
             "line": {
              "color": "#000039"
             }
            },
            "header": {
             "fill": {
              "color": "#000040"
             },
             "font": {
              "color": "#000036"
             },
             "line": {
              "color": "#000039"
             }
            },
            "type": "table"
           }
          ],
          "waterfall": [
           {
            "connector": {
             "line": {
              "color": "#000036",
              "width": 2
             }
            },
            "decreasing": {
             "marker": {
              "color": "#000033"
             }
            },
            "increasing": {
             "marker": {
              "color": "#000032"
             }
            },
            "totals": {
             "marker": {
              "color": "#000034"
             }
            },
            "type": "waterfall"
           }
          ]
         },
         "layout": {
          "coloraxis": {
           "colorscale": [
            [
             0,
             "#000011"
            ],
            [
             0.1111111111111111,
             "#000012"
            ],
            [
             0.2222222222222222,
             "#000013"
            ],
            [
             0.3333333333333333,
             "#000014"
            ],
            [
             0.4444444444444444,
             "#000015"
            ],
            [
             0.5555555555555556,
             "#000016"
            ],
            [
             0.6666666666666666,
             "#000017"
            ],
            [
             0.7777777777777778,
             "#000018"
            ],
            [
             0.8888888888888888,
             "#000019"
            ],
            [
             1,
             "#000020"
            ]
           ]
          },
          "colorscale": {
           "diverging": [
            [
             0,
             "#000021"
            ],
            [
             0.1,
             "#000022"
            ],
            [
             0.2,
             "#000023"
            ],
            [
             0.3,
             "#000024"
            ],
            [
             0.4,
             "#000025"
            ],
            [
             0.5,
             "#000026"
            ],
            [
             0.6,
             "#000027"
            ],
            [
             0.7,
             "#000028"
            ],
            [
             0.8,
             "#000029"
            ],
            [
             0.9,
             "#000030"
            ],
            [
             1,
             "#000031"
            ]
           ],
           "sequential": [
            [
             0,
             "#000011"
            ],
            [
             0.1111111111111111,
             "#000012"
            ],
            [
             0.2222222222222222,
             "#000013"
            ],
            [
             0.3333333333333333,
             "#000014"
            ],
            [
             0.4444444444444444,
             "#000015"
            ],
            [
             0.5555555555555556,
             "#000016"
            ],
            [
             0.6666666666666666,
             "#000017"
            ],
            [
             0.7777777777777778,
             "#000018"
            ],
            [
             0.8888888888888888,
             "#000019"
            ],
            [
             1,
             "#000020"
            ]
           ],
           "sequentialminus": [
            [
             0,
             "#000011"
            ],
            [
             0.1111111111111111,
             "#000012"
            ],
            [
             0.2222222222222222,
             "#000013"
            ],
            [
             0.3333333333333333,
             "#000014"
            ],
            [
             0.4444444444444444,
             "#000015"
            ],
            [
             0.5555555555555556,
             "#000016"
            ],
            [
             0.6666666666666666,
             "#000017"
            ],
            [
             0.7777777777777778,
             "#000018"
            ],
            [
             0.8888888888888888,
             "#000019"
            ],
            [
             1,
             "#000020"
            ]
           ]
          },
          "colorway": [
           "#000001",
           "#000002",
           "#000003",
           "#000004",
           "#000005",
           "#000006",
           "#000007",
           "#000008",
           "#000009",
           "#000010"
          ]
         }
        },
        "xaxis": {
         "anchor": "y",
         "autorange": true,
         "constrain": "domain",
         "domain": [
          0.42142857142857143,
          0.5785714285714285
         ],
         "range": [
          -0.5,
          2.5
         ],
         "scaleanchor": "y",
         "tickangle": 45,
         "title": {
          "text": "Drug"
         },
         "type": "category"
        },
        "yaxis": {
         "anchor": "x",
         "autorange": true,
         "constrain": "domain",
         "domain": [
          0,
          1
         ],
         "range": [
          6.5,
          -0.5
         ],
         "title": {
          "text": "4 dpf with PTU"
         },
         "type": "category"
        }
       }
      },
      "image/png": "[encoded data removed]",
      "text/html": [
       "<div>                            <div id=\"158234e6-8ff4-48cc-81b1-f5a6e8b1ec3c\" class=\"plotly-graph-div\" style=\"height:525px; width:100%;\"></div>            <script type=\"text/javascript\">                require([\"plotly\"], function(Plotly) {                    window.PLOTLYENV=window.PLOTLYENV || {};                                    if (document.getElementById(\"158234e6-8ff4-48cc-81b1-f5a6e8b1ec3c\")) {                    Plotly.newPlot(                        \"158234e6-8ff4-48cc-81b1-f5a6e8b1ec3c\",                        [{\"coloraxis\":\"coloraxis\",\"name\":\"0\",\"x\":[\"Ivermectin_1F05\",\"Niclosamide_1A02\",\"Remdesivir_1A06\"],\"y\":[\"0.5 \\u00b5M_Replicate 1\",\"0.5 \\u00b5M_Replicate 2\",\"1.0 \\u00b5M_Replicate 1\",\"1.0 \\u00b5M_Replicate 2\",\"1.0 \\u00b5M_Replicate 3\",\"1.0 \\u00b5M_Replicate 4\",\"1.0 \\u00b5M_Replicate 5\"],\"z\":[[\"nan\",\"100.0\",\"nan\"],[\"nan\",\"100.0\",\"nan\"],[\"100.0\",\"0.0\",\"100.0\"],[\"100.0\",\"nan\",\"100.0\"],[\"nan\",\"nan\",\"100.0\"],[\"nan\",\"nan\",\"90.0\"],[\"nan\",\"nan\",\"100.0\"]],\"type\":\"heatmap\",\"xaxis\":\"x\",\"yaxis\":\"y\",\"hovertemplate\":\"Drug: %{x}<br>4 dpf with PTU: %{y}<br>Survival: %{z}<extra></extra>\"}],                        {\"template\":{\"data\":{\"candlestick\":[{\"decreasing\":{\"line\":{\"color\":\"#000033\"}},\"increasing\":{\"line\":{\"color\":\"#000032\"}},\"type\":\"candlestick\"}],\"contourcarpet\":[{\"colorscale\":[[0.0,\"#000011\"],[0.1111111111111111,\"#000012\"],[0.2222222222222222,\"#000013\"],[0.3333333333333333,\"#000014\"],[0.4444444444444444,\"#000015\"],[0.5555555555555556,\"#000016\"],[0.6666666666666666,\"#000017\"],[0.7777777777777778,\"#000018\"],[0.8888888888888888,\"#000019\"],[1.0,\"#000020\"]],\"type\":\"contourcarpet\"}],\"contour\":[{\"colorscale\":[[0.0,\"#000011\"],[0.1111111111111111,\"#000012\"],[0.2222222222222222,\"#000013\"],[0.3333333333333333,\"#000014\"],[0.4444444444444444,\"#000015\"],[0.5555555555555556,\"#000016\"],[0.6666666666666666,\"#000017\"],[0.7777777777777778,\"#000018\"],[0.8888888888888888,\"#000019\"],[1.0,\"#000020\"]],\"type\":\"contour\"}],\"heatmap\":[{\"colorscale\":[[0.0,\"#000011\"],[0.1111111111111111,\"#000012\"],[0.2222222222222222,\"#000013\"],[0.3333333333333333,\"#000014\"],[0.4444444444444444,\"#000015\"],[0.5555555555555556,\"#000016\"],[0.6666666666666666,\"#000017\"],[0.7777777777777778,\"#000018\"],[0.8888888888888888,\"#000019\"],[1.0,\"#000020\"]],\"type\":\"heatmap\"}],\"histogram2d\":[{\"colorscale\":[[0.0,\"#000011\"],[0.1111111111111111,\"#000012\"],[0.2222222222222222,\"#000013\"],[0.3333333333333333,\"#000014\"],[0.4444444444444444,\"#000015\"],[0.5555555555555556,\"#000016\"],[0.6666666666666666,\"#000017\"],[0.7777777777777778,\"#000018\"],[0.8888888888888888,\"#000019\"],[1.0,\"#000020\"]],\"type\":\"histogram2d\"}],\"icicle\":[{\"textfont\":{\"color\":\"white\"},\"type\":\"icicle\"}],\"sankey\":[{\"textfont\":{\"color\":\"#000036\"},\"type\":\"sankey\"}],\"scatter\":[{\"marker\":{\"line\":{\"width\":0}},\"type\":\"scatter\"}],\"table\":[{\"cells\":{\"fill\":{\"color\":\"#000038\"},\"font\":{\"color\":\"#000037\"},\"line\":{\"color\":\"#000039\"}},\"header\":{\"fill\":{\"color\":\"#000040\"},\"font\":{\"color\":\"#000036\"},\"line\":{\"color\":\"#000039\"}},\"type\":\"table\"}],\"waterfall\":[{\"connector\":{\"line\":{\"color\":\"#000036\",\"width\":2}},\"decreasing\":{\"marker\":{\"color\":\"#000033\"}},\"increasing\":{\"marker\":{\"color\":\"#000032\"}},\"totals\":{\"marker\":{\"color\":\"#000034\"}},\"type\":\"waterfall\"}]},\"layout\":{\"coloraxis\":{\"colorscale\":[[0.0,\"#000011\"],[0.1111111111111111,\"#000012\"],[0.2222222222222222,\"#000013\"],[0.3333333333333333,\"#000014\"],[0.4444444444444444,\"#000015\"],[0.5555555555555556,\"#000016\"],[0.6666666666666666,\"#000017\"],[0.7777777777777778,\"#000018\"],[0.8888888888888888,\"#000019\"],[1.0,\"#000020\"]]},\"colorscale\":{\"diverging\":[[0.0,\"#000021\"],[0.1,\"#000022\"],[0.2,\"#000023\"],[0.3,\"#000024\"],[0.4,\"#000025\"],[0.5,\"#000026\"],[0.6,\"#000027\"],[0.7,\"#000028\"],[0.8,\"#000029\"],[0.9,\"#000030\"],[1.0,\"#000031\"]],\"sequential\":[[0.0,\"#000011\"],[0.1111111111111111,\"#000012\"],[0.2222222222222222,\"#000013\"],[0.3333333333333333,\"#000014\"],[0.4444444444444444,\"#000015\"],[0.5555555555555556,\"#000016\"],[0.6666666666666666,\"#000017\"],[0.7777777777777778,\"#000018\"],[0.8888888888888888,\"#000019\"],[1.0,\"#000020\"]],\"sequentialminus\":[[0.0,\"#000011\"],[0.1111111111111111,\"#000012\"],[0.2222222222222222,\"#000013\"],[0.3333333333333333,\"#000014\"],[0.4444444444444444,\"#000015\"],[0.5555555555555556,\"#000016\"],[0.6666666666666666,\"#000017\"],[0.7777777777777778,\"#000018\"],[0.8888888888888888,\"#000019\"],[1.0,\"#000020\"]]},\"colorway\":[\"#000001\",\"#000002\",\"#000003\",\"#000004\",\"#000005\",\"#000006\",\"#000007\",\"#000008\",\"#000009\",\"#000010\"]}},\"xaxis\":{\"anchor\":\"y\",\"domain\":[0.0,1.0],\"scaleanchor\":\"y\",\"constrain\":\"domain\",\"title\":{\"text\":\"Drug\"},\"tickangle\":45},\"yaxis\":{\"anchor\":\"x\",\"domain\":[0.0,1.0],\"autorange\":\"reversed\",\"constrain\":\"domain\",\"title\":{\"text\":\"4 dpf with PTU\"}},\"coloraxis\":{\"colorbar\":{\"title\":{\"text\":\"Survival\"}},\"colorscale\":[[0.0,\"rgb(158,1,66)\"],[0.1,\"rgb(213,62,79)\"],[0.2,\"rgb(244,109,67)\"],[0.3,\"rgb(253,174,97)\"],[0.4,\"rgb(254,224,139)\"],[0.5,\"rgb(255,255,191)\"],[0.6,\"rgb(230,245,152)\"],[0.7,\"rgb(171,221,164)\"],[0.8,\"rgb(102,194,165)\"],[0.9,\"rgb(50,136,189)\"],[1.0,\"rgb(94,79,162)\"]],\"cmin\":0,\"cmax\":100},\"margin\":{\"t\":60}},                        {\"responsive\": true}                    ).then(function(){\n",
       "                            \n",
       "var gd = document.getElementById('158234e6-8ff4-48cc-81b1-f5a6e8b1ec3c');\n",
       "var x = new MutationObserver(function (mutations, observer) {{\n",
       "        var display = window.getComputedStyle(gd).display;\n",
       "        if (!display || display === 'none') {{\n",
       "            console.log([gd, 'removed!']);\n",
       "            Plotly.purge(gd);\n",
       "            observer.disconnect();\n",
       "        }}\n",
       "}});\n",
       "\n",
       "// Listen for the removal of the full notebook cells\n",
       "var notebookContainer = gd.closest('#notebook-container');\n",
       "if (notebookContainer) {{\n",
       "    x.observe(notebookContainer, {childList: true});\n",
       "}}\n",
       "\n",
       "// Listen for the clearing of the current output cell\n",
       "var outputEl = gd.closest('.output');\n",
       "if (outputEl) {{\n",
       "    x.observe(outputEl, {childList: true});\n",
       "}}\n",
       "\n",
       "                        })                };                });            </script>        </div>"
      ]
     },
     "metadata": {},
     "output_type": "display_data"
    }
   ],
   "source": [
    "data_ACQ,x_ACQ,y_ACQ = survival_plot(getSurvivalData()[0], [\"Ivermectin_1F05\",\"Niclosamide_1A02\",\"Remdesivir_1A06\"])\n",
    "fig_survival_ACQ = px.imshow(data_ACQ,\n",
    "            labels=dict(x=\"Drug\", y=(\"4 dpf with PTU\"), color=\"Survival\"),\n",
    "            x=x_ACQ,\n",
    "            y=y_ACQ,\n",
    "            color_continuous_scale='Spectral',\n",
    "            zmin=0,\n",
    "            zmax=100\n",
    "            )\n",
    "fig_survival_ACQ.update_xaxes(tickangle=45)\n",
    "fig_survival_ACQ.show()"
   ]
  },
  {
   "cell_type": "code",
   "execution_count": 146,
   "id": "63858959-7ff4-4444-949d-70c661a68088",
   "metadata": {
    "tags": []
   },
   "outputs": [
    {
     "data": {
      "text/html": [
       "<div>\n",
       "<style scoped>\n",
       "    .dataframe tbody tr th:only-of-type {\n",
       "        vertical-align: middle;\n",
       "    }\n",
       "\n",
       "    .dataframe tbody tr th {\n",
       "        vertical-align: top;\n",
       "    }\n",
       "\n",
       "    .dataframe thead th {\n",
       "        text-align: right;\n",
       "    }\n",
       "</style>\n",
       "<table border=\"1\" class=\"dataframe\">\n",
       "  <thead>\n",
       "    <tr style=\"text-align: right;\">\n",
       "      <th></th>\n",
       "      <th>Experiment ID</th>\n",
       "      <th>Drug</th>\n",
       "      <th>Concentration (µM)</th>\n",
       "      <th>Bin [1 sec]</th>\n",
       "      <th>Distance_moved [mm]</th>\n",
       "      <th>Velocity [mm/s]</th>\n",
       "      <th>Moving [s]</th>\n",
       "      <th>Not_Moving [s]</th>\n",
       "    </tr>\n",
       "  </thead>\n",
       "  <tbody>\n",
       "    <tr>\n",
       "      <th>0</th>\n",
       "      <td>0.0</td>\n",
       "      <td>Bemcentinib_1A04</td>\n",
       "      <td>1.0</td>\n",
       "      <td>0:00:00-0:01:00</td>\n",
       "      <td>112.046678</td>\n",
       "      <td>1.871185</td>\n",
       "      <td>24.102222</td>\n",
       "      <td>35.777778</td>\n",
       "    </tr>\n",
       "    <tr>\n",
       "      <th>1</th>\n",
       "      <td>NaN</td>\n",
       "      <td>NaN</td>\n",
       "      <td>NaN</td>\n",
       "      <td>0:01:00-0:02:00</td>\n",
       "      <td>125.104700</td>\n",
       "      <td>2.087861</td>\n",
       "      <td>27.693333</td>\n",
       "      <td>32.306667</td>\n",
       "    </tr>\n",
       "    <tr>\n",
       "      <th>2</th>\n",
       "      <td>NaN</td>\n",
       "      <td>NaN</td>\n",
       "      <td>NaN</td>\n",
       "      <td>0:02:00-0:03:00</td>\n",
       "      <td>129.701144</td>\n",
       "      <td>2.161686</td>\n",
       "      <td>29.560000</td>\n",
       "      <td>30.440000</td>\n",
       "    </tr>\n",
       "    <tr>\n",
       "      <th>3</th>\n",
       "      <td>NaN</td>\n",
       "      <td>NaN</td>\n",
       "      <td>NaN</td>\n",
       "      <td>0:03:00-0:04:00</td>\n",
       "      <td>134.012144</td>\n",
       "      <td>2.236519</td>\n",
       "      <td>30.555556</td>\n",
       "      <td>29.444444</td>\n",
       "    </tr>\n",
       "    <tr>\n",
       "      <th>4</th>\n",
       "      <td>NaN</td>\n",
       "      <td>NaN</td>\n",
       "      <td>NaN</td>\n",
       "      <td>0:04:00-0:05:00</td>\n",
       "      <td>135.892433</td>\n",
       "      <td>2.264874</td>\n",
       "      <td>29.631111</td>\n",
       "      <td>30.368889</td>\n",
       "    </tr>\n",
       "    <tr>\n",
       "      <th>...</th>\n",
       "      <td>...</td>\n",
       "      <td>...</td>\n",
       "      <td>...</td>\n",
       "      <td>...</td>\n",
       "      <td>...</td>\n",
       "      <td>...</td>\n",
       "      <td>...</td>\n",
       "      <td>...</td>\n",
       "    </tr>\n",
       "    <tr>\n",
       "      <th>39445</th>\n",
       "      <td>NaN</td>\n",
       "      <td>NaN</td>\n",
       "      <td>NaN</td>\n",
       "      <td>2:25:00-2:26:00</td>\n",
       "      <td>887.612492</td>\n",
       "      <td>14.813290</td>\n",
       "      <td>14.543333</td>\n",
       "      <td>45.456667</td>\n",
       "    </tr>\n",
       "    <tr>\n",
       "      <th>39446</th>\n",
       "      <td>NaN</td>\n",
       "      <td>NaN</td>\n",
       "      <td>NaN</td>\n",
       "      <td>2:26:00-2:27:00</td>\n",
       "      <td>904.546390</td>\n",
       "      <td>15.075773</td>\n",
       "      <td>15.636667</td>\n",
       "      <td>44.363333</td>\n",
       "    </tr>\n",
       "    <tr>\n",
       "      <th>39447</th>\n",
       "      <td>NaN</td>\n",
       "      <td>NaN</td>\n",
       "      <td>NaN</td>\n",
       "      <td>2:27:00-2:28:00</td>\n",
       "      <td>889.439447</td>\n",
       "      <td>14.823984</td>\n",
       "      <td>15.903333</td>\n",
       "      <td>44.096667</td>\n",
       "    </tr>\n",
       "    <tr>\n",
       "      <th>39448</th>\n",
       "      <td>NaN</td>\n",
       "      <td>NaN</td>\n",
       "      <td>NaN</td>\n",
       "      <td>2:28:00-2:29:00</td>\n",
       "      <td>886.827928</td>\n",
       "      <td>14.800195</td>\n",
       "      <td>12.690000</td>\n",
       "      <td>47.310000</td>\n",
       "    </tr>\n",
       "    <tr>\n",
       "      <th>39449</th>\n",
       "      <td>NaN</td>\n",
       "      <td>NaN</td>\n",
       "      <td>NaN</td>\n",
       "      <td>2:29:00-2:30:00</td>\n",
       "      <td>876.790977</td>\n",
       "      <td>14.613183</td>\n",
       "      <td>11.826667</td>\n",
       "      <td>48.173333</td>\n",
       "    </tr>\n",
       "  </tbody>\n",
       "</table>\n",
       "<p>39450 rows × 8 columns</p>\n",
       "</div>"
      ],
      "text/plain": [
       "       Experiment ID              Drug  Concentration (µM)      Bin [1 sec]  \\\n",
       "0                0.0  Bemcentinib_1A04                 1.0  0:00:00-0:01:00   \n",
       "1                NaN               NaN                 NaN  0:01:00-0:02:00   \n",
       "2                NaN               NaN                 NaN  0:02:00-0:03:00   \n",
       "3                NaN               NaN                 NaN  0:03:00-0:04:00   \n",
       "4                NaN               NaN                 NaN  0:04:00-0:05:00   \n",
       "...              ...               ...                 ...              ...   \n",
       "39445            NaN               NaN                 NaN  2:25:00-2:26:00   \n",
       "39446            NaN               NaN                 NaN  2:26:00-2:27:00   \n",
       "39447            NaN               NaN                 NaN  2:27:00-2:28:00   \n",
       "39448            NaN               NaN                 NaN  2:28:00-2:29:00   \n",
       "39449            NaN               NaN                 NaN  2:29:00-2:30:00   \n",
       "\n",
       "       Distance_moved [mm]  Velocity [mm/s]  Moving [s]  Not_Moving [s]  \n",
       "0               112.046678         1.871185   24.102222       35.777778  \n",
       "1               125.104700         2.087861   27.693333       32.306667  \n",
       "2               129.701144         2.161686   29.560000       30.440000  \n",
       "3               134.012144         2.236519   30.555556       29.444444  \n",
       "4               135.892433         2.264874   29.631111       30.368889  \n",
       "...                    ...              ...         ...             ...  \n",
       "39445           887.612492        14.813290   14.543333       45.456667  \n",
       "39446           904.546390        15.075773   15.636667       44.363333  \n",
       "39447           889.439447        14.823984   15.903333       44.096667  \n",
       "39448           886.827928        14.800195   12.690000       47.310000  \n",
       "39449           876.790977        14.613183   11.826667       48.173333  \n",
       "\n",
       "[39450 rows x 8 columns]"
      ]
     },
     "execution_count": 146,
     "metadata": {},
     "output_type": "execute_result"
    }
   ],
   "source": [
    "def getActivityData():\n",
    "    source = \"Data/2023-02-16_Behavior_Assay_Collected_Measurements_lineplot.xlsx\"\n",
    "    df = pd.read_excel(source)\n",
    "    return df\n",
    "getActivityData()"
   ]
  },
  {
   "cell_type": "code",
   "execution_count": null,
   "id": "256375e5-2a92-4db6-8114-6454bc7a47dc",
   "metadata": {},
   "outputs": [],
   "source": []
  }
 ],
 "metadata": {
  "kernelspec": {
   "display_name": "Python 3 (ipykernel)",
   "language": "python",
   "name": "python3"
  },
  "language_info": {
   "codemirror_mode": {
    "name": "ipython",
    "version": 3
   },
   "file_extension": ".py",
   "mimetype": "text/x-python",
   "name": "python",
   "nbconvert_exporter": "python",
   "pygments_lexer": "ipython3",
   "version": "3.9.12"
  }
 },
 "nbformat": 4,
 "nbformat_minor": 5
}
